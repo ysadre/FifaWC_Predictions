{
  "cells": [
    {
      "cell_type": "code",
      "execution_count": null,
      "id": "9c19e575",
      "metadata": {
        "id": "9c19e575"
      },
      "outputs": [],
      "source": [
        "import pandas as pd\n",
        "import numpy as np"
      ]
    },
    {
      "cell_type": "code",
      "execution_count": null,
      "id": "ad7a805b",
      "metadata": {
        "id": "ad7a805b"
      },
      "outputs": [],
      "source": [
        "from sklearn import linear_model\n",
        "from sklearn import ensemble\n",
        "from sklearn.model_selection import train_test_split\n",
        "from sklearn.metrics import confusion_matrix, roc_curve, roc_auc_score\n",
        "from sklearn.pipeline import Pipeline\n",
        "from sklearn.preprocessing import PolynomialFeatures\n",
        "import seaborn as sns\n",
        "import matplotlib.pyplot as plt"
      ]
    },
    {
      "cell_type": "code",
      "execution_count": null,
      "id": "41233ed5",
      "metadata": {
        "id": "41233ed5",
        "colab": {
          "base_uri": "https://localhost:8080/",
          "height": 392
        },
        "outputId": "f6f9a56c-b1ba-4aab-c0a2-2d31118e7a77"
      },
      "outputs": [
        {
          "output_type": "error",
          "ename": "FileNotFoundError",
          "evalue": "ignored",
          "traceback": [
            "\u001b[0;31m---------------------------------------------------------------------------\u001b[0m",
            "\u001b[0;31mFileNotFoundError\u001b[0m                         Traceback (most recent call last)",
            "\u001b[0;32m<ipython-input-13-a8f4976a1fde>\u001b[0m in \u001b[0;36m<module>\u001b[0;34m\u001b[0m\n\u001b[1;32m      1\u001b[0m \u001b[0;31m# International Football Results from 1872 to 2022\u001b[0m\u001b[0;34m\u001b[0m\u001b[0;34m\u001b[0m\u001b[0;34m\u001b[0m\u001b[0m\n\u001b[1;32m      2\u001b[0m \u001b[0mlink1\u001b[0m \u001b[0;34m=\u001b[0m \u001b[0;34m'https://www.kaggle.com/datasets/ysadre/international-football-results-from-1872-to-2017?select=results.csv'\u001b[0m\u001b[0;34m\u001b[0m\u001b[0;34m\u001b[0m\u001b[0m\n\u001b[0;32m----> 3\u001b[0;31m \u001b[0mresults\u001b[0m \u001b[0;34m=\u001b[0m \u001b[0mpd\u001b[0m\u001b[0;34m.\u001b[0m\u001b[0mread_csv\u001b[0m\u001b[0;34m(\u001b[0m\u001b[0;34m'results.csv'\u001b[0m\u001b[0;34m)\u001b[0m\u001b[0;34m\u001b[0m\u001b[0;34m\u001b[0m\u001b[0m\n\u001b[0m\u001b[1;32m      4\u001b[0m \u001b[0mresults\u001b[0m \u001b[0;34m=\u001b[0m  \u001b[0mresults\u001b[0m\u001b[0;34m.\u001b[0m\u001b[0mreplace\u001b[0m\u001b[0;34m(\u001b[0m\u001b[0;34m{\u001b[0m\u001b[0;34m'Germany DR'\u001b[0m\u001b[0;34m:\u001b[0m \u001b[0;34m'Germany'\u001b[0m\u001b[0;34m,\u001b[0m \u001b[0;34m'China'\u001b[0m\u001b[0;34m:\u001b[0m \u001b[0;34m'China PR'\u001b[0m\u001b[0;34m}\u001b[0m\u001b[0;34m)\u001b[0m\u001b[0;34m\u001b[0m\u001b[0;34m\u001b[0m\u001b[0m\n\u001b[1;32m      5\u001b[0m \u001b[0mresults\u001b[0m\u001b[0;34m[\u001b[0m\u001b[0;34m'date'\u001b[0m\u001b[0;34m]\u001b[0m \u001b[0;34m=\u001b[0m \u001b[0mpd\u001b[0m\u001b[0;34m.\u001b[0m\u001b[0mto_datetime\u001b[0m\u001b[0;34m(\u001b[0m\u001b[0mresults\u001b[0m\u001b[0;34m[\u001b[0m\u001b[0;34m'date'\u001b[0m\u001b[0;34m]\u001b[0m\u001b[0;34m)\u001b[0m\u001b[0;34m\u001b[0m\u001b[0;34m\u001b[0m\u001b[0m\n",
            "\u001b[0;32m/usr/local/lib/python3.8/dist-packages/pandas/util/_decorators.py\u001b[0m in \u001b[0;36mwrapper\u001b[0;34m(*args, **kwargs)\u001b[0m\n\u001b[1;32m    309\u001b[0m                     \u001b[0mstacklevel\u001b[0m\u001b[0;34m=\u001b[0m\u001b[0mstacklevel\u001b[0m\u001b[0;34m,\u001b[0m\u001b[0;34m\u001b[0m\u001b[0;34m\u001b[0m\u001b[0m\n\u001b[1;32m    310\u001b[0m                 )\n\u001b[0;32m--> 311\u001b[0;31m             \u001b[0;32mreturn\u001b[0m \u001b[0mfunc\u001b[0m\u001b[0;34m(\u001b[0m\u001b[0;34m*\u001b[0m\u001b[0margs\u001b[0m\u001b[0;34m,\u001b[0m \u001b[0;34m**\u001b[0m\u001b[0mkwargs\u001b[0m\u001b[0;34m)\u001b[0m\u001b[0;34m\u001b[0m\u001b[0;34m\u001b[0m\u001b[0m\n\u001b[0m\u001b[1;32m    312\u001b[0m \u001b[0;34m\u001b[0m\u001b[0m\n\u001b[1;32m    313\u001b[0m         \u001b[0;32mreturn\u001b[0m \u001b[0mwrapper\u001b[0m\u001b[0;34m\u001b[0m\u001b[0;34m\u001b[0m\u001b[0m\n",
            "\u001b[0;32m/usr/local/lib/python3.8/dist-packages/pandas/io/parsers/readers.py\u001b[0m in \u001b[0;36mread_csv\u001b[0;34m(filepath_or_buffer, sep, delimiter, header, names, index_col, usecols, squeeze, prefix, mangle_dupe_cols, dtype, engine, converters, true_values, false_values, skipinitialspace, skiprows, skipfooter, nrows, na_values, keep_default_na, na_filter, verbose, skip_blank_lines, parse_dates, infer_datetime_format, keep_date_col, date_parser, dayfirst, cache_dates, iterator, chunksize, compression, thousands, decimal, lineterminator, quotechar, quoting, doublequote, escapechar, comment, encoding, encoding_errors, dialect, error_bad_lines, warn_bad_lines, on_bad_lines, delim_whitespace, low_memory, memory_map, float_precision, storage_options)\u001b[0m\n\u001b[1;32m    584\u001b[0m     \u001b[0mkwds\u001b[0m\u001b[0;34m.\u001b[0m\u001b[0mupdate\u001b[0m\u001b[0;34m(\u001b[0m\u001b[0mkwds_defaults\u001b[0m\u001b[0;34m)\u001b[0m\u001b[0;34m\u001b[0m\u001b[0;34m\u001b[0m\u001b[0m\n\u001b[1;32m    585\u001b[0m \u001b[0;34m\u001b[0m\u001b[0m\n\u001b[0;32m--> 586\u001b[0;31m     \u001b[0;32mreturn\u001b[0m \u001b[0m_read\u001b[0m\u001b[0;34m(\u001b[0m\u001b[0mfilepath_or_buffer\u001b[0m\u001b[0;34m,\u001b[0m \u001b[0mkwds\u001b[0m\u001b[0;34m)\u001b[0m\u001b[0;34m\u001b[0m\u001b[0;34m\u001b[0m\u001b[0m\n\u001b[0m\u001b[1;32m    587\u001b[0m \u001b[0;34m\u001b[0m\u001b[0m\n\u001b[1;32m    588\u001b[0m \u001b[0;34m\u001b[0m\u001b[0m\n",
            "\u001b[0;32m/usr/local/lib/python3.8/dist-packages/pandas/io/parsers/readers.py\u001b[0m in \u001b[0;36m_read\u001b[0;34m(filepath_or_buffer, kwds)\u001b[0m\n\u001b[1;32m    480\u001b[0m \u001b[0;34m\u001b[0m\u001b[0m\n\u001b[1;32m    481\u001b[0m     \u001b[0;31m# Create the parser.\u001b[0m\u001b[0;34m\u001b[0m\u001b[0;34m\u001b[0m\u001b[0;34m\u001b[0m\u001b[0m\n\u001b[0;32m--> 482\u001b[0;31m     \u001b[0mparser\u001b[0m \u001b[0;34m=\u001b[0m \u001b[0mTextFileReader\u001b[0m\u001b[0;34m(\u001b[0m\u001b[0mfilepath_or_buffer\u001b[0m\u001b[0;34m,\u001b[0m \u001b[0;34m**\u001b[0m\u001b[0mkwds\u001b[0m\u001b[0;34m)\u001b[0m\u001b[0;34m\u001b[0m\u001b[0;34m\u001b[0m\u001b[0m\n\u001b[0m\u001b[1;32m    483\u001b[0m \u001b[0;34m\u001b[0m\u001b[0m\n\u001b[1;32m    484\u001b[0m     \u001b[0;32mif\u001b[0m \u001b[0mchunksize\u001b[0m \u001b[0;32mor\u001b[0m \u001b[0miterator\u001b[0m\u001b[0;34m:\u001b[0m\u001b[0;34m\u001b[0m\u001b[0;34m\u001b[0m\u001b[0m\n",
            "\u001b[0;32m/usr/local/lib/python3.8/dist-packages/pandas/io/parsers/readers.py\u001b[0m in \u001b[0;36m__init__\u001b[0;34m(self, f, engine, **kwds)\u001b[0m\n\u001b[1;32m    809\u001b[0m             \u001b[0mself\u001b[0m\u001b[0;34m.\u001b[0m\u001b[0moptions\u001b[0m\u001b[0;34m[\u001b[0m\u001b[0;34m\"has_index_names\"\u001b[0m\u001b[0;34m]\u001b[0m \u001b[0;34m=\u001b[0m \u001b[0mkwds\u001b[0m\u001b[0;34m[\u001b[0m\u001b[0;34m\"has_index_names\"\u001b[0m\u001b[0;34m]\u001b[0m\u001b[0;34m\u001b[0m\u001b[0;34m\u001b[0m\u001b[0m\n\u001b[1;32m    810\u001b[0m \u001b[0;34m\u001b[0m\u001b[0m\n\u001b[0;32m--> 811\u001b[0;31m         \u001b[0mself\u001b[0m\u001b[0;34m.\u001b[0m\u001b[0m_engine\u001b[0m \u001b[0;34m=\u001b[0m \u001b[0mself\u001b[0m\u001b[0;34m.\u001b[0m\u001b[0m_make_engine\u001b[0m\u001b[0;34m(\u001b[0m\u001b[0mself\u001b[0m\u001b[0;34m.\u001b[0m\u001b[0mengine\u001b[0m\u001b[0;34m)\u001b[0m\u001b[0;34m\u001b[0m\u001b[0;34m\u001b[0m\u001b[0m\n\u001b[0m\u001b[1;32m    812\u001b[0m \u001b[0;34m\u001b[0m\u001b[0m\n\u001b[1;32m    813\u001b[0m     \u001b[0;32mdef\u001b[0m \u001b[0mclose\u001b[0m\u001b[0;34m(\u001b[0m\u001b[0mself\u001b[0m\u001b[0;34m)\u001b[0m\u001b[0;34m:\u001b[0m\u001b[0;34m\u001b[0m\u001b[0;34m\u001b[0m\u001b[0m\n",
            "\u001b[0;32m/usr/local/lib/python3.8/dist-packages/pandas/io/parsers/readers.py\u001b[0m in \u001b[0;36m_make_engine\u001b[0;34m(self, engine)\u001b[0m\n\u001b[1;32m   1038\u001b[0m             )\n\u001b[1;32m   1039\u001b[0m         \u001b[0;31m# error: Too many arguments for \"ParserBase\"\u001b[0m\u001b[0;34m\u001b[0m\u001b[0;34m\u001b[0m\u001b[0;34m\u001b[0m\u001b[0m\n\u001b[0;32m-> 1040\u001b[0;31m         \u001b[0;32mreturn\u001b[0m \u001b[0mmapping\u001b[0m\u001b[0;34m[\u001b[0m\u001b[0mengine\u001b[0m\u001b[0;34m]\u001b[0m\u001b[0;34m(\u001b[0m\u001b[0mself\u001b[0m\u001b[0;34m.\u001b[0m\u001b[0mf\u001b[0m\u001b[0;34m,\u001b[0m \u001b[0;34m**\u001b[0m\u001b[0mself\u001b[0m\u001b[0;34m.\u001b[0m\u001b[0moptions\u001b[0m\u001b[0;34m)\u001b[0m  \u001b[0;31m# type: ignore[call-arg]\u001b[0m\u001b[0;34m\u001b[0m\u001b[0;34m\u001b[0m\u001b[0m\n\u001b[0m\u001b[1;32m   1041\u001b[0m \u001b[0;34m\u001b[0m\u001b[0m\n\u001b[1;32m   1042\u001b[0m     \u001b[0;32mdef\u001b[0m \u001b[0m_failover_to_python\u001b[0m\u001b[0;34m(\u001b[0m\u001b[0mself\u001b[0m\u001b[0;34m)\u001b[0m\u001b[0;34m:\u001b[0m\u001b[0;34m\u001b[0m\u001b[0;34m\u001b[0m\u001b[0m\n",
            "\u001b[0;32m/usr/local/lib/python3.8/dist-packages/pandas/io/parsers/c_parser_wrapper.py\u001b[0m in \u001b[0;36m__init__\u001b[0;34m(self, src, **kwds)\u001b[0m\n\u001b[1;32m     49\u001b[0m \u001b[0;34m\u001b[0m\u001b[0m\n\u001b[1;32m     50\u001b[0m         \u001b[0;31m# open handles\u001b[0m\u001b[0;34m\u001b[0m\u001b[0;34m\u001b[0m\u001b[0;34m\u001b[0m\u001b[0m\n\u001b[0;32m---> 51\u001b[0;31m         \u001b[0mself\u001b[0m\u001b[0;34m.\u001b[0m\u001b[0m_open_handles\u001b[0m\u001b[0;34m(\u001b[0m\u001b[0msrc\u001b[0m\u001b[0;34m,\u001b[0m \u001b[0mkwds\u001b[0m\u001b[0;34m)\u001b[0m\u001b[0;34m\u001b[0m\u001b[0;34m\u001b[0m\u001b[0m\n\u001b[0m\u001b[1;32m     52\u001b[0m         \u001b[0;32massert\u001b[0m \u001b[0mself\u001b[0m\u001b[0;34m.\u001b[0m\u001b[0mhandles\u001b[0m \u001b[0;32mis\u001b[0m \u001b[0;32mnot\u001b[0m \u001b[0;32mNone\u001b[0m\u001b[0;34m\u001b[0m\u001b[0;34m\u001b[0m\u001b[0m\n\u001b[1;32m     53\u001b[0m \u001b[0;34m\u001b[0m\u001b[0m\n",
            "\u001b[0;32m/usr/local/lib/python3.8/dist-packages/pandas/io/parsers/base_parser.py\u001b[0m in \u001b[0;36m_open_handles\u001b[0;34m(self, src, kwds)\u001b[0m\n\u001b[1;32m    220\u001b[0m         \u001b[0mLet\u001b[0m \u001b[0mthe\u001b[0m \u001b[0mreaders\u001b[0m \u001b[0mopen\u001b[0m \u001b[0mIOHandles\u001b[0m \u001b[0mafter\u001b[0m \u001b[0mthey\u001b[0m \u001b[0mare\u001b[0m \u001b[0mdone\u001b[0m \u001b[0;32mwith\u001b[0m \u001b[0mtheir\u001b[0m \u001b[0mpotential\u001b[0m \u001b[0mraises\u001b[0m\u001b[0;34m.\u001b[0m\u001b[0;34m\u001b[0m\u001b[0;34m\u001b[0m\u001b[0m\n\u001b[1;32m    221\u001b[0m         \"\"\"\n\u001b[0;32m--> 222\u001b[0;31m         self.handles = get_handle(\n\u001b[0m\u001b[1;32m    223\u001b[0m             \u001b[0msrc\u001b[0m\u001b[0;34m,\u001b[0m\u001b[0;34m\u001b[0m\u001b[0;34m\u001b[0m\u001b[0m\n\u001b[1;32m    224\u001b[0m             \u001b[0;34m\"r\"\u001b[0m\u001b[0;34m,\u001b[0m\u001b[0;34m\u001b[0m\u001b[0;34m\u001b[0m\u001b[0m\n",
            "\u001b[0;32m/usr/local/lib/python3.8/dist-packages/pandas/io/common.py\u001b[0m in \u001b[0;36mget_handle\u001b[0;34m(path_or_buf, mode, encoding, compression, memory_map, is_text, errors, storage_options)\u001b[0m\n\u001b[1;32m    700\u001b[0m         \u001b[0;32mif\u001b[0m \u001b[0mioargs\u001b[0m\u001b[0;34m.\u001b[0m\u001b[0mencoding\u001b[0m \u001b[0;32mand\u001b[0m \u001b[0;34m\"b\"\u001b[0m \u001b[0;32mnot\u001b[0m \u001b[0;32min\u001b[0m \u001b[0mioargs\u001b[0m\u001b[0;34m.\u001b[0m\u001b[0mmode\u001b[0m\u001b[0;34m:\u001b[0m\u001b[0;34m\u001b[0m\u001b[0;34m\u001b[0m\u001b[0m\n\u001b[1;32m    701\u001b[0m             \u001b[0;31m# Encoding\u001b[0m\u001b[0;34m\u001b[0m\u001b[0;34m\u001b[0m\u001b[0;34m\u001b[0m\u001b[0m\n\u001b[0;32m--> 702\u001b[0;31m             handle = open(\n\u001b[0m\u001b[1;32m    703\u001b[0m                 \u001b[0mhandle\u001b[0m\u001b[0;34m,\u001b[0m\u001b[0;34m\u001b[0m\u001b[0;34m\u001b[0m\u001b[0m\n\u001b[1;32m    704\u001b[0m                 \u001b[0mioargs\u001b[0m\u001b[0;34m.\u001b[0m\u001b[0mmode\u001b[0m\u001b[0;34m,\u001b[0m\u001b[0;34m\u001b[0m\u001b[0;34m\u001b[0m\u001b[0m\n",
            "\u001b[0;31mFileNotFoundError\u001b[0m: [Errno 2] No such file or directory: 'results.csv'"
          ]
        }
      ],
      "source": [
        "# International Football Results from 1872 to 2022\n",
        "link1 = 'https://www.kaggle.com/datasets/martj42/international-football-results-from-1872-to-2017?select=results.csv'\n",
        "results = pd.read_csv('results.csv')\n",
        "results =  results.replace({'Germany DR': 'Germany', 'China': 'China PR'})\n",
        "results['date'] = pd.to_datetime(results['date'])"
      ]
    },
    {
      "cell_type": "code",
      "execution_count": null,
      "id": "2d9fe121",
      "metadata": {
        "id": "2d9fe121",
        "outputId": "d5cab526-8450-4a9a-88e2-b73c5f259997"
      },
      "outputs": [
        {
          "data": {
            "text/html": [
              "<div>\n",
              "<style scoped>\n",
              "    .dataframe tbody tr th:only-of-type {\n",
              "        vertical-align: middle;\n",
              "    }\n",
              "\n",
              "    .dataframe tbody tr th {\n",
              "        vertical-align: top;\n",
              "    }\n",
              "\n",
              "    .dataframe thead th {\n",
              "        text-align: right;\n",
              "    }\n",
              "</style>\n",
              "<table border=\"1\" class=\"dataframe\">\n",
              "  <thead>\n",
              "    <tr style=\"text-align: right;\">\n",
              "      <th></th>\n",
              "      <th>date</th>\n",
              "      <th>home_team</th>\n",
              "      <th>away_team</th>\n",
              "      <th>home_score</th>\n",
              "      <th>away_score</th>\n",
              "      <th>tournament</th>\n",
              "      <th>city</th>\n",
              "      <th>country</th>\n",
              "      <th>neutral</th>\n",
              "    </tr>\n",
              "  </thead>\n",
              "  <tbody>\n",
              "    <tr>\n",
              "      <th>0</th>\n",
              "      <td>1872-11-30</td>\n",
              "      <td>Scotland</td>\n",
              "      <td>England</td>\n",
              "      <td>0.0</td>\n",
              "      <td>0.0</td>\n",
              "      <td>Friendly</td>\n",
              "      <td>Glasgow</td>\n",
              "      <td>Scotland</td>\n",
              "      <td>False</td>\n",
              "    </tr>\n",
              "    <tr>\n",
              "      <th>1</th>\n",
              "      <td>1873-03-08</td>\n",
              "      <td>England</td>\n",
              "      <td>Scotland</td>\n",
              "      <td>4.0</td>\n",
              "      <td>2.0</td>\n",
              "      <td>Friendly</td>\n",
              "      <td>London</td>\n",
              "      <td>England</td>\n",
              "      <td>False</td>\n",
              "    </tr>\n",
              "    <tr>\n",
              "      <th>2</th>\n",
              "      <td>1874-03-07</td>\n",
              "      <td>Scotland</td>\n",
              "      <td>England</td>\n",
              "      <td>2.0</td>\n",
              "      <td>1.0</td>\n",
              "      <td>Friendly</td>\n",
              "      <td>Glasgow</td>\n",
              "      <td>Scotland</td>\n",
              "      <td>False</td>\n",
              "    </tr>\n",
              "    <tr>\n",
              "      <th>3</th>\n",
              "      <td>1875-03-06</td>\n",
              "      <td>England</td>\n",
              "      <td>Scotland</td>\n",
              "      <td>2.0</td>\n",
              "      <td>2.0</td>\n",
              "      <td>Friendly</td>\n",
              "      <td>London</td>\n",
              "      <td>England</td>\n",
              "      <td>False</td>\n",
              "    </tr>\n",
              "    <tr>\n",
              "      <th>4</th>\n",
              "      <td>1876-03-04</td>\n",
              "      <td>Scotland</td>\n",
              "      <td>England</td>\n",
              "      <td>3.0</td>\n",
              "      <td>0.0</td>\n",
              "      <td>Friendly</td>\n",
              "      <td>Glasgow</td>\n",
              "      <td>Scotland</td>\n",
              "      <td>False</td>\n",
              "    </tr>\n",
              "    <tr>\n",
              "      <th>...</th>\n",
              "      <td>...</td>\n",
              "      <td>...</td>\n",
              "      <td>...</td>\n",
              "      <td>...</td>\n",
              "      <td>...</td>\n",
              "      <td>...</td>\n",
              "      <td>...</td>\n",
              "      <td>...</td>\n",
              "      <td>...</td>\n",
              "    </tr>\n",
              "    <tr>\n",
              "      <th>44147</th>\n",
              "      <td>2022-12-01</td>\n",
              "      <td>Canada</td>\n",
              "      <td>Morocco</td>\n",
              "      <td>NaN</td>\n",
              "      <td>NaN</td>\n",
              "      <td>FIFA World Cup</td>\n",
              "      <td>Doha</td>\n",
              "      <td>Qatar</td>\n",
              "      <td>True</td>\n",
              "    </tr>\n",
              "    <tr>\n",
              "      <th>44148</th>\n",
              "      <td>2022-12-02</td>\n",
              "      <td>Serbia</td>\n",
              "      <td>Switzerland</td>\n",
              "      <td>NaN</td>\n",
              "      <td>NaN</td>\n",
              "      <td>FIFA World Cup</td>\n",
              "      <td>Doha</td>\n",
              "      <td>Qatar</td>\n",
              "      <td>True</td>\n",
              "    </tr>\n",
              "    <tr>\n",
              "      <th>44149</th>\n",
              "      <td>2022-12-02</td>\n",
              "      <td>Cameroon</td>\n",
              "      <td>Brazil</td>\n",
              "      <td>NaN</td>\n",
              "      <td>NaN</td>\n",
              "      <td>FIFA World Cup</td>\n",
              "      <td>Lusail</td>\n",
              "      <td>Qatar</td>\n",
              "      <td>True</td>\n",
              "    </tr>\n",
              "    <tr>\n",
              "      <th>44150</th>\n",
              "      <td>2022-12-02</td>\n",
              "      <td>Ghana</td>\n",
              "      <td>Uruguay</td>\n",
              "      <td>NaN</td>\n",
              "      <td>NaN</td>\n",
              "      <td>FIFA World Cup</td>\n",
              "      <td>Al Wakrah</td>\n",
              "      <td>Qatar</td>\n",
              "      <td>True</td>\n",
              "    </tr>\n",
              "    <tr>\n",
              "      <th>44151</th>\n",
              "      <td>2022-12-02</td>\n",
              "      <td>South Korea</td>\n",
              "      <td>Portugal</td>\n",
              "      <td>NaN</td>\n",
              "      <td>NaN</td>\n",
              "      <td>FIFA World Cup</td>\n",
              "      <td>Al Rayyan</td>\n",
              "      <td>Qatar</td>\n",
              "      <td>True</td>\n",
              "    </tr>\n",
              "  </tbody>\n",
              "</table>\n",
              "<p>44152 rows × 9 columns</p>\n",
              "</div>"
            ],
            "text/plain": [
              "            date    home_team    away_team  home_score  away_score  \\\n",
              "0     1872-11-30     Scotland      England         0.0         0.0   \n",
              "1     1873-03-08      England     Scotland         4.0         2.0   \n",
              "2     1874-03-07     Scotland      England         2.0         1.0   \n",
              "3     1875-03-06      England     Scotland         2.0         2.0   \n",
              "4     1876-03-04     Scotland      England         3.0         0.0   \n",
              "...          ...          ...          ...         ...         ...   \n",
              "44147 2022-12-01       Canada      Morocco         NaN         NaN   \n",
              "44148 2022-12-02       Serbia  Switzerland         NaN         NaN   \n",
              "44149 2022-12-02     Cameroon       Brazil         NaN         NaN   \n",
              "44150 2022-12-02        Ghana      Uruguay         NaN         NaN   \n",
              "44151 2022-12-02  South Korea     Portugal         NaN         NaN   \n",
              "\n",
              "           tournament       city   country  neutral  \n",
              "0            Friendly    Glasgow  Scotland    False  \n",
              "1            Friendly     London   England    False  \n",
              "2            Friendly    Glasgow  Scotland    False  \n",
              "3            Friendly     London   England    False  \n",
              "4            Friendly    Glasgow  Scotland    False  \n",
              "...               ...        ...       ...      ...  \n",
              "44147  FIFA World Cup       Doha     Qatar     True  \n",
              "44148  FIFA World Cup       Doha     Qatar     True  \n",
              "44149  FIFA World Cup     Lusail     Qatar     True  \n",
              "44150  FIFA World Cup  Al Wakrah     Qatar     True  \n",
              "44151  FIFA World Cup  Al Rayyan     Qatar     True  \n",
              "\n",
              "[44152 rows x 9 columns]"
            ]
          },
          "execution_count": 4,
          "metadata": {},
          "output_type": "execute_result"
        }
      ],
      "source": [
        "results"
      ]
    },
    {
      "cell_type": "code",
      "execution_count": null,
      "id": "a47165bd",
      "metadata": {
        "id": "a47165bd"
      },
      "outputs": [],
      "source": [
        "# FIFA World Ranking 1992 to 2022\n",
        "link2 = 'https://www.kaggle.com/datasets/cashncarry/fifaworldranking'\n",
        "worldrankings = pd.read_csv('fifa_ranking-2022-10-06.csv')\n",
        "worldrankings['rank_date'] = pd.to_datetime(worldrankings['rank_date'])"
      ]
    },
    {
      "cell_type": "code",
      "execution_count": null,
      "id": "6600cc73",
      "metadata": {
        "id": "6600cc73",
        "outputId": "8e09bc0d-c66f-4341-c223-187236eed59a"
      },
      "outputs": [
        {
          "data": {
            "text/html": [
              "<div>\n",
              "<style scoped>\n",
              "    .dataframe tbody tr th:only-of-type {\n",
              "        vertical-align: middle;\n",
              "    }\n",
              "\n",
              "    .dataframe tbody tr th {\n",
              "        vertical-align: top;\n",
              "    }\n",
              "\n",
              "    .dataframe thead th {\n",
              "        text-align: right;\n",
              "    }\n",
              "</style>\n",
              "<table border=\"1\" class=\"dataframe\">\n",
              "  <thead>\n",
              "    <tr style=\"text-align: right;\">\n",
              "      <th></th>\n",
              "      <th>rank</th>\n",
              "      <th>country_full</th>\n",
              "      <th>country_abrv</th>\n",
              "      <th>total_points</th>\n",
              "      <th>previous_points</th>\n",
              "      <th>rank_change</th>\n",
              "      <th>confederation</th>\n",
              "      <th>rank_date</th>\n",
              "    </tr>\n",
              "  </thead>\n",
              "  <tbody>\n",
              "    <tr>\n",
              "      <th>0</th>\n",
              "      <td>1</td>\n",
              "      <td>Germany</td>\n",
              "      <td>GER</td>\n",
              "      <td>57.00</td>\n",
              "      <td>0.00</td>\n",
              "      <td>0</td>\n",
              "      <td>UEFA</td>\n",
              "      <td>1992-12-31</td>\n",
              "    </tr>\n",
              "    <tr>\n",
              "      <th>1</th>\n",
              "      <td>96</td>\n",
              "      <td>Syria</td>\n",
              "      <td>SYR</td>\n",
              "      <td>11.00</td>\n",
              "      <td>0.00</td>\n",
              "      <td>0</td>\n",
              "      <td>AFC</td>\n",
              "      <td>1992-12-31</td>\n",
              "    </tr>\n",
              "    <tr>\n",
              "      <th>2</th>\n",
              "      <td>97</td>\n",
              "      <td>Burkina Faso</td>\n",
              "      <td>BFA</td>\n",
              "      <td>11.00</td>\n",
              "      <td>0.00</td>\n",
              "      <td>0</td>\n",
              "      <td>CAF</td>\n",
              "      <td>1992-12-31</td>\n",
              "    </tr>\n",
              "    <tr>\n",
              "      <th>3</th>\n",
              "      <td>99</td>\n",
              "      <td>Latvia</td>\n",
              "      <td>LVA</td>\n",
              "      <td>10.00</td>\n",
              "      <td>0.00</td>\n",
              "      <td>0</td>\n",
              "      <td>UEFA</td>\n",
              "      <td>1992-12-31</td>\n",
              "    </tr>\n",
              "    <tr>\n",
              "      <th>4</th>\n",
              "      <td>100</td>\n",
              "      <td>Burundi</td>\n",
              "      <td>BDI</td>\n",
              "      <td>10.00</td>\n",
              "      <td>0.00</td>\n",
              "      <td>0</td>\n",
              "      <td>CAF</td>\n",
              "      <td>1992-12-31</td>\n",
              "    </tr>\n",
              "    <tr>\n",
              "      <th>...</th>\n",
              "      <td>...</td>\n",
              "      <td>...</td>\n",
              "      <td>...</td>\n",
              "      <td>...</td>\n",
              "      <td>...</td>\n",
              "      <td>...</td>\n",
              "      <td>...</td>\n",
              "      <td>...</td>\n",
              "    </tr>\n",
              "    <tr>\n",
              "      <th>63911</th>\n",
              "      <td>74</td>\n",
              "      <td>El Salvador</td>\n",
              "      <td>SLV</td>\n",
              "      <td>1330.51</td>\n",
              "      <td>1333.48</td>\n",
              "      <td>3</td>\n",
              "      <td>CONCACAF</td>\n",
              "      <td>2022-10-06</td>\n",
              "    </tr>\n",
              "    <tr>\n",
              "      <th>63912</th>\n",
              "      <td>75</td>\n",
              "      <td>Oman</td>\n",
              "      <td>OMA</td>\n",
              "      <td>1320.29</td>\n",
              "      <td>1323.03</td>\n",
              "      <td>0</td>\n",
              "      <td>AFC</td>\n",
              "      <td>2022-10-06</td>\n",
              "    </tr>\n",
              "    <tr>\n",
              "      <th>63913</th>\n",
              "      <td>76</td>\n",
              "      <td>Israel</td>\n",
              "      <td>ISR</td>\n",
              "      <td>1316.55</td>\n",
              "      <td>1316.35</td>\n",
              "      <td>0</td>\n",
              "      <td>UEFA</td>\n",
              "      <td>2022-10-06</td>\n",
              "    </tr>\n",
              "    <tr>\n",
              "      <th>63914</th>\n",
              "      <td>78</td>\n",
              "      <td>Georgia</td>\n",
              "      <td>GEO</td>\n",
              "      <td>1307.34</td>\n",
              "      <td>1296.46</td>\n",
              "      <td>-4</td>\n",
              "      <td>UEFA</td>\n",
              "      <td>2022-10-06</td>\n",
              "    </tr>\n",
              "    <tr>\n",
              "      <th>63915</th>\n",
              "      <td>211</td>\n",
              "      <td>San Marino</td>\n",
              "      <td>SMR</td>\n",
              "      <td>762.22</td>\n",
              "      <td>763.82</td>\n",
              "      <td>0</td>\n",
              "      <td>UEFA</td>\n",
              "      <td>2022-10-06</td>\n",
              "    </tr>\n",
              "  </tbody>\n",
              "</table>\n",
              "<p>63916 rows × 8 columns</p>\n",
              "</div>"
            ],
            "text/plain": [
              "       rank  country_full country_abrv  total_points  previous_points  \\\n",
              "0         1       Germany          GER         57.00             0.00   \n",
              "1        96         Syria          SYR         11.00             0.00   \n",
              "2        97  Burkina Faso          BFA         11.00             0.00   \n",
              "3        99        Latvia          LVA         10.00             0.00   \n",
              "4       100       Burundi          BDI         10.00             0.00   \n",
              "...     ...           ...          ...           ...              ...   \n",
              "63911    74   El Salvador          SLV       1330.51          1333.48   \n",
              "63912    75          Oman          OMA       1320.29          1323.03   \n",
              "63913    76        Israel          ISR       1316.55          1316.35   \n",
              "63914    78       Georgia          GEO       1307.34          1296.46   \n",
              "63915   211    San Marino          SMR        762.22           763.82   \n",
              "\n",
              "       rank_change confederation  rank_date  \n",
              "0                0          UEFA 1992-12-31  \n",
              "1                0           AFC 1992-12-31  \n",
              "2                0           CAF 1992-12-31  \n",
              "3                0          UEFA 1992-12-31  \n",
              "4                0           CAF 1992-12-31  \n",
              "...            ...           ...        ...  \n",
              "63911            3      CONCACAF 2022-10-06  \n",
              "63912            0           AFC 2022-10-06  \n",
              "63913            0          UEFA 2022-10-06  \n",
              "63914           -4          UEFA 2022-10-06  \n",
              "63915            0          UEFA 2022-10-06  \n",
              "\n",
              "[63916 rows x 8 columns]"
            ]
          },
          "execution_count": 6,
          "metadata": {},
          "output_type": "execute_result"
        }
      ],
      "source": [
        "worldrankings"
      ]
    },
    {
      "cell_type": "code",
      "execution_count": null,
      "id": "99625102",
      "metadata": {
        "scrolled": false,
        "id": "99625102",
        "outputId": "b5d79361-f8ab-4adb-d564-44d19a21a3a4"
      },
      "outputs": [
        {
          "data": {
            "text/html": [
              "<div>\n",
              "<style scoped>\n",
              "    .dataframe tbody tr th:only-of-type {\n",
              "        vertical-align: middle;\n",
              "    }\n",
              "\n",
              "    .dataframe tbody tr th {\n",
              "        vertical-align: top;\n",
              "    }\n",
              "\n",
              "    .dataframe thead th {\n",
              "        text-align: right;\n",
              "    }\n",
              "</style>\n",
              "<table border=\"1\" class=\"dataframe\">\n",
              "  <thead>\n",
              "    <tr style=\"text-align: right;\">\n",
              "      <th></th>\n",
              "      <th>rank_date</th>\n",
              "      <th>rank</th>\n",
              "      <th>country_full</th>\n",
              "      <th>country_abrv</th>\n",
              "      <th>total_points</th>\n",
              "      <th>previous_points</th>\n",
              "      <th>rank_change</th>\n",
              "      <th>confederation</th>\n",
              "    </tr>\n",
              "  </thead>\n",
              "  <tbody>\n",
              "    <tr>\n",
              "      <th>0</th>\n",
              "      <td>2003-01-15</td>\n",
              "      <td>204.0</td>\n",
              "      <td>Afghanistan</td>\n",
              "      <td>AFG</td>\n",
              "      <td>7.00</td>\n",
              "      <td>0.00</td>\n",
              "      <td>0.0</td>\n",
              "      <td>AFC</td>\n",
              "    </tr>\n",
              "    <tr>\n",
              "      <th>1</th>\n",
              "      <td>2003-01-16</td>\n",
              "      <td>204.0</td>\n",
              "      <td>Afghanistan</td>\n",
              "      <td>AFG</td>\n",
              "      <td>7.00</td>\n",
              "      <td>0.00</td>\n",
              "      <td>0.0</td>\n",
              "      <td>AFC</td>\n",
              "    </tr>\n",
              "    <tr>\n",
              "      <th>2</th>\n",
              "      <td>2003-01-17</td>\n",
              "      <td>204.0</td>\n",
              "      <td>Afghanistan</td>\n",
              "      <td>AFG</td>\n",
              "      <td>7.00</td>\n",
              "      <td>0.00</td>\n",
              "      <td>0.0</td>\n",
              "      <td>AFC</td>\n",
              "    </tr>\n",
              "    <tr>\n",
              "      <th>3</th>\n",
              "      <td>2003-01-18</td>\n",
              "      <td>204.0</td>\n",
              "      <td>Afghanistan</td>\n",
              "      <td>AFG</td>\n",
              "      <td>7.00</td>\n",
              "      <td>0.00</td>\n",
              "      <td>0.0</td>\n",
              "      <td>AFC</td>\n",
              "    </tr>\n",
              "    <tr>\n",
              "      <th>4</th>\n",
              "      <td>2003-01-19</td>\n",
              "      <td>204.0</td>\n",
              "      <td>Afghanistan</td>\n",
              "      <td>AFG</td>\n",
              "      <td>7.00</td>\n",
              "      <td>0.00</td>\n",
              "      <td>0.0</td>\n",
              "      <td>AFC</td>\n",
              "    </tr>\n",
              "    <tr>\n",
              "      <th>...</th>\n",
              "      <td>...</td>\n",
              "      <td>...</td>\n",
              "      <td>...</td>\n",
              "      <td>...</td>\n",
              "      <td>...</td>\n",
              "      <td>...</td>\n",
              "      <td>...</td>\n",
              "      <td>...</td>\n",
              "    </tr>\n",
              "    <tr>\n",
              "      <th>2186614</th>\n",
              "      <td>2022-10-02</td>\n",
              "      <td>123.0</td>\n",
              "      <td>Zimbabwe</td>\n",
              "      <td>ZIM</td>\n",
              "      <td>1138.56</td>\n",
              "      <td>1138.56</td>\n",
              "      <td>0.0</td>\n",
              "      <td>CAF</td>\n",
              "    </tr>\n",
              "    <tr>\n",
              "      <th>2186615</th>\n",
              "      <td>2022-10-03</td>\n",
              "      <td>123.0</td>\n",
              "      <td>Zimbabwe</td>\n",
              "      <td>ZIM</td>\n",
              "      <td>1138.56</td>\n",
              "      <td>1138.56</td>\n",
              "      <td>0.0</td>\n",
              "      <td>CAF</td>\n",
              "    </tr>\n",
              "    <tr>\n",
              "      <th>2186616</th>\n",
              "      <td>2022-10-04</td>\n",
              "      <td>123.0</td>\n",
              "      <td>Zimbabwe</td>\n",
              "      <td>ZIM</td>\n",
              "      <td>1138.56</td>\n",
              "      <td>1138.56</td>\n",
              "      <td>0.0</td>\n",
              "      <td>CAF</td>\n",
              "    </tr>\n",
              "    <tr>\n",
              "      <th>2186617</th>\n",
              "      <td>2022-10-05</td>\n",
              "      <td>123.0</td>\n",
              "      <td>Zimbabwe</td>\n",
              "      <td>ZIM</td>\n",
              "      <td>1138.56</td>\n",
              "      <td>1138.56</td>\n",
              "      <td>0.0</td>\n",
              "      <td>CAF</td>\n",
              "    </tr>\n",
              "    <tr>\n",
              "      <th>2186618</th>\n",
              "      <td>2022-10-06</td>\n",
              "      <td>125.0</td>\n",
              "      <td>Zimbabwe</td>\n",
              "      <td>ZIM</td>\n",
              "      <td>1138.56</td>\n",
              "      <td>1138.56</td>\n",
              "      <td>2.0</td>\n",
              "      <td>CAF</td>\n",
              "    </tr>\n",
              "  </tbody>\n",
              "</table>\n",
              "<p>2186619 rows × 8 columns</p>\n",
              "</div>"
            ],
            "text/plain": [
              "         rank_date   rank country_full country_abrv  total_points  \\\n",
              "0       2003-01-15  204.0  Afghanistan          AFG          7.00   \n",
              "1       2003-01-16  204.0  Afghanistan          AFG          7.00   \n",
              "2       2003-01-17  204.0  Afghanistan          AFG          7.00   \n",
              "3       2003-01-18  204.0  Afghanistan          AFG          7.00   \n",
              "4       2003-01-19  204.0  Afghanistan          AFG          7.00   \n",
              "...            ...    ...          ...          ...           ...   \n",
              "2186614 2022-10-02  123.0     Zimbabwe          ZIM       1138.56   \n",
              "2186615 2022-10-03  123.0     Zimbabwe          ZIM       1138.56   \n",
              "2186616 2022-10-04  123.0     Zimbabwe          ZIM       1138.56   \n",
              "2186617 2022-10-05  123.0     Zimbabwe          ZIM       1138.56   \n",
              "2186618 2022-10-06  125.0     Zimbabwe          ZIM       1138.56   \n",
              "\n",
              "         previous_points  rank_change confederation  \n",
              "0                   0.00          0.0           AFC  \n",
              "1                   0.00          0.0           AFC  \n",
              "2                   0.00          0.0           AFC  \n",
              "3                   0.00          0.0           AFC  \n",
              "4                   0.00          0.0           AFC  \n",
              "...                  ...          ...           ...  \n",
              "2186614          1138.56          0.0           CAF  \n",
              "2186615          1138.56          0.0           CAF  \n",
              "2186616          1138.56          0.0           CAF  \n",
              "2186617          1138.56          0.0           CAF  \n",
              "2186618          1138.56          2.0           CAF  \n",
              "\n",
              "[2186619 rows x 8 columns]"
            ]
          },
          "execution_count": 7,
          "metadata": {},
          "output_type": "execute_result"
        }
      ],
      "source": [
        "rankings = worldrankings.set_index(['rank_date']).groupby(['country_full'], group_keys=False).resample('D').first().fillna(method='ffill')\n",
        "rankings = rankings.reset_index()\n",
        "rankings"
      ]
    },
    {
      "cell_type": "code",
      "execution_count": null,
      "id": "bf9a0458",
      "metadata": {
        "id": "bf9a0458"
      },
      "outputs": [],
      "source": [
        "# merged to include home team stats\n",
        "matcheshome = results.merge(rankings, \n",
        "                        left_on=['date', 'home_team'], \n",
        "                        right_on=['rank_date', 'country_full'])"
      ]
    },
    {
      "cell_type": "code",
      "execution_count": null,
      "id": "e63f077d",
      "metadata": {
        "id": "e63f077d"
      },
      "outputs": [],
      "source": [
        "#matcheshome"
      ]
    },
    {
      "cell_type": "code",
      "execution_count": null,
      "id": "878a5f03",
      "metadata": {
        "id": "878a5f03"
      },
      "outputs": [],
      "source": [
        "# merged to include away team stats \n",
        "matchesaway = results.merge(rankings, \n",
        "                        left_on=['date', 'away_team'], \n",
        "                        right_on=['rank_date', 'country_full'])"
      ]
    },
    {
      "cell_type": "code",
      "execution_count": null,
      "id": "f7ad5809",
      "metadata": {
        "id": "f7ad5809"
      },
      "outputs": [],
      "source": [
        "#matchesaway"
      ]
    },
    {
      "cell_type": "code",
      "execution_count": null,
      "id": "c7684b7d",
      "metadata": {
        "id": "c7684b7d"
      },
      "outputs": [],
      "source": [
        "allmatchstats = matcheshome.merge(rankings, \n",
        "                        left_on=['date', 'away_team'], \n",
        "                        right_on=['rank_date', 'country_full'], \n",
        "                        suffixes=('_home', '_away'))"
      ]
    },
    {
      "cell_type": "code",
      "execution_count": null,
      "id": "0c70bcd3",
      "metadata": {
        "id": "0c70bcd3",
        "outputId": "49b9c7c8-0006-4a0e-928b-ca8c84e39a82"
      },
      "outputs": [
        {
          "data": {
            "text/html": [
              "<div>\n",
              "<style scoped>\n",
              "    .dataframe tbody tr th:only-of-type {\n",
              "        vertical-align: middle;\n",
              "    }\n",
              "\n",
              "    .dataframe tbody tr th {\n",
              "        vertical-align: top;\n",
              "    }\n",
              "\n",
              "    .dataframe thead th {\n",
              "        text-align: right;\n",
              "    }\n",
              "</style>\n",
              "<table border=\"1\" class=\"dataframe\">\n",
              "  <thead>\n",
              "    <tr style=\"text-align: right;\">\n",
              "      <th></th>\n",
              "      <th>date</th>\n",
              "      <th>home_team</th>\n",
              "      <th>away_team</th>\n",
              "      <th>home_score</th>\n",
              "      <th>away_score</th>\n",
              "      <th>tournament</th>\n",
              "      <th>city</th>\n",
              "      <th>country</th>\n",
              "      <th>neutral</th>\n",
              "      <th>rank_date_home</th>\n",
              "      <th>...</th>\n",
              "      <th>rank_change_home</th>\n",
              "      <th>confederation_home</th>\n",
              "      <th>rank_date_away</th>\n",
              "      <th>rank_away</th>\n",
              "      <th>country_full_away</th>\n",
              "      <th>country_abrv_away</th>\n",
              "      <th>total_points_away</th>\n",
              "      <th>previous_points_away</th>\n",
              "      <th>rank_change_away</th>\n",
              "      <th>confederation_away</th>\n",
              "    </tr>\n",
              "  </thead>\n",
              "  <tbody>\n",
              "    <tr>\n",
              "      <th>0</th>\n",
              "      <td>1993-01-01</td>\n",
              "      <td>Ghana</td>\n",
              "      <td>Mali</td>\n",
              "      <td>1.0</td>\n",
              "      <td>1.0</td>\n",
              "      <td>Friendly</td>\n",
              "      <td>Libreville</td>\n",
              "      <td>Gabon</td>\n",
              "      <td>True</td>\n",
              "      <td>1993-01-01</td>\n",
              "      <td>...</td>\n",
              "      <td>0.0</td>\n",
              "      <td>CAF</td>\n",
              "      <td>1993-01-01</td>\n",
              "      <td>69.0</td>\n",
              "      <td>Mali</td>\n",
              "      <td>MLI</td>\n",
              "      <td>22.00</td>\n",
              "      <td>0.00</td>\n",
              "      <td>0.0</td>\n",
              "      <td>CAF</td>\n",
              "    </tr>\n",
              "    <tr>\n",
              "      <th>1</th>\n",
              "      <td>1993-01-02</td>\n",
              "      <td>Gabon</td>\n",
              "      <td>Burkina Faso</td>\n",
              "      <td>1.0</td>\n",
              "      <td>1.0</td>\n",
              "      <td>Friendly</td>\n",
              "      <td>Libreville</td>\n",
              "      <td>Gabon</td>\n",
              "      <td>False</td>\n",
              "      <td>1993-01-02</td>\n",
              "      <td>...</td>\n",
              "      <td>0.0</td>\n",
              "      <td>CAF</td>\n",
              "      <td>1993-01-02</td>\n",
              "      <td>97.0</td>\n",
              "      <td>Burkina Faso</td>\n",
              "      <td>BFA</td>\n",
              "      <td>11.00</td>\n",
              "      <td>0.00</td>\n",
              "      <td>0.0</td>\n",
              "      <td>CAF</td>\n",
              "    </tr>\n",
              "    <tr>\n",
              "      <th>2</th>\n",
              "      <td>1993-01-03</td>\n",
              "      <td>Burkina Faso</td>\n",
              "      <td>Mali</td>\n",
              "      <td>1.0</td>\n",
              "      <td>0.0</td>\n",
              "      <td>Friendly</td>\n",
              "      <td>Libreville</td>\n",
              "      <td>Gabon</td>\n",
              "      <td>True</td>\n",
              "      <td>1993-01-03</td>\n",
              "      <td>...</td>\n",
              "      <td>0.0</td>\n",
              "      <td>CAF</td>\n",
              "      <td>1993-01-03</td>\n",
              "      <td>69.0</td>\n",
              "      <td>Mali</td>\n",
              "      <td>MLI</td>\n",
              "      <td>22.00</td>\n",
              "      <td>0.00</td>\n",
              "      <td>0.0</td>\n",
              "      <td>CAF</td>\n",
              "    </tr>\n",
              "    <tr>\n",
              "      <th>3</th>\n",
              "      <td>1993-01-03</td>\n",
              "      <td>Gabon</td>\n",
              "      <td>Ghana</td>\n",
              "      <td>2.0</td>\n",
              "      <td>3.0</td>\n",
              "      <td>Friendly</td>\n",
              "      <td>Libreville</td>\n",
              "      <td>Gabon</td>\n",
              "      <td>False</td>\n",
              "      <td>1993-01-03</td>\n",
              "      <td>...</td>\n",
              "      <td>0.0</td>\n",
              "      <td>CAF</td>\n",
              "      <td>1993-01-03</td>\n",
              "      <td>39.0</td>\n",
              "      <td>Ghana</td>\n",
              "      <td>GHA</td>\n",
              "      <td>34.00</td>\n",
              "      <td>0.00</td>\n",
              "      <td>0.0</td>\n",
              "      <td>CAF</td>\n",
              "    </tr>\n",
              "    <tr>\n",
              "      <th>4</th>\n",
              "      <td>1993-01-08</td>\n",
              "      <td>Uganda</td>\n",
              "      <td>Tanzania</td>\n",
              "      <td>3.0</td>\n",
              "      <td>1.0</td>\n",
              "      <td>Friendly</td>\n",
              "      <td>Kampala</td>\n",
              "      <td>Uganda</td>\n",
              "      <td>False</td>\n",
              "      <td>1993-01-08</td>\n",
              "      <td>...</td>\n",
              "      <td>0.0</td>\n",
              "      <td>CAF</td>\n",
              "      <td>1993-01-08</td>\n",
              "      <td>80.0</td>\n",
              "      <td>Tanzania</td>\n",
              "      <td>TAN</td>\n",
              "      <td>15.00</td>\n",
              "      <td>0.00</td>\n",
              "      <td>0.0</td>\n",
              "      <td>CAF</td>\n",
              "    </tr>\n",
              "    <tr>\n",
              "      <th>...</th>\n",
              "      <td>...</td>\n",
              "      <td>...</td>\n",
              "      <td>...</td>\n",
              "      <td>...</td>\n",
              "      <td>...</td>\n",
              "      <td>...</td>\n",
              "      <td>...</td>\n",
              "      <td>...</td>\n",
              "      <td>...</td>\n",
              "      <td>...</td>\n",
              "      <td>...</td>\n",
              "      <td>...</td>\n",
              "      <td>...</td>\n",
              "      <td>...</td>\n",
              "      <td>...</td>\n",
              "      <td>...</td>\n",
              "      <td>...</td>\n",
              "      <td>...</td>\n",
              "      <td>...</td>\n",
              "      <td>...</td>\n",
              "      <td>...</td>\n",
              "    </tr>\n",
              "    <tr>\n",
              "      <th>21431</th>\n",
              "      <td>2022-09-27</td>\n",
              "      <td>Norway</td>\n",
              "      <td>Serbia</td>\n",
              "      <td>0.0</td>\n",
              "      <td>2.0</td>\n",
              "      <td>UEFA Nations League</td>\n",
              "      <td>Oslo</td>\n",
              "      <td>Norway</td>\n",
              "      <td>False</td>\n",
              "      <td>2022-09-27</td>\n",
              "      <td>...</td>\n",
              "      <td>0.0</td>\n",
              "      <td>UEFA</td>\n",
              "      <td>2022-09-27</td>\n",
              "      <td>25.0</td>\n",
              "      <td>Serbia</td>\n",
              "      <td>SRB</td>\n",
              "      <td>1549.53</td>\n",
              "      <td>1549.53</td>\n",
              "      <td>0.0</td>\n",
              "      <td>UEFA</td>\n",
              "    </tr>\n",
              "    <tr>\n",
              "      <th>21432</th>\n",
              "      <td>2022-09-27</td>\n",
              "      <td>Sweden</td>\n",
              "      <td>Slovenia</td>\n",
              "      <td>1.0</td>\n",
              "      <td>1.0</td>\n",
              "      <td>UEFA Nations League</td>\n",
              "      <td>Stockholm</td>\n",
              "      <td>Sweden</td>\n",
              "      <td>False</td>\n",
              "      <td>2022-09-27</td>\n",
              "      <td>...</td>\n",
              "      <td>0.0</td>\n",
              "      <td>UEFA</td>\n",
              "      <td>2022-09-27</td>\n",
              "      <td>65.0</td>\n",
              "      <td>Slovenia</td>\n",
              "      <td>SVN</td>\n",
              "      <td>1372.48</td>\n",
              "      <td>1372.48</td>\n",
              "      <td>0.0</td>\n",
              "      <td>UEFA</td>\n",
              "    </tr>\n",
              "    <tr>\n",
              "      <th>21433</th>\n",
              "      <td>2022-09-27</td>\n",
              "      <td>Kosovo</td>\n",
              "      <td>Cyprus</td>\n",
              "      <td>5.0</td>\n",
              "      <td>1.0</td>\n",
              "      <td>UEFA Nations League</td>\n",
              "      <td>Pristina</td>\n",
              "      <td>Kosovo</td>\n",
              "      <td>False</td>\n",
              "      <td>2022-09-27</td>\n",
              "      <td>...</td>\n",
              "      <td>0.0</td>\n",
              "      <td>UEFA</td>\n",
              "      <td>2022-09-27</td>\n",
              "      <td>108.0</td>\n",
              "      <td>Cyprus</td>\n",
              "      <td>CYP</td>\n",
              "      <td>1180.52</td>\n",
              "      <td>1180.52</td>\n",
              "      <td>1.0</td>\n",
              "      <td>UEFA</td>\n",
              "    </tr>\n",
              "    <tr>\n",
              "      <th>21434</th>\n",
              "      <td>2022-09-27</td>\n",
              "      <td>Greece</td>\n",
              "      <td>Northern Ireland</td>\n",
              "      <td>3.0</td>\n",
              "      <td>1.0</td>\n",
              "      <td>UEFA Nations League</td>\n",
              "      <td>Athens</td>\n",
              "      <td>Greece</td>\n",
              "      <td>False</td>\n",
              "      <td>2022-09-27</td>\n",
              "      <td>...</td>\n",
              "      <td>1.0</td>\n",
              "      <td>UEFA</td>\n",
              "      <td>2022-09-27</td>\n",
              "      <td>58.0</td>\n",
              "      <td>Northern Ireland</td>\n",
              "      <td>NIR</td>\n",
              "      <td>1399.10</td>\n",
              "      <td>1399.10</td>\n",
              "      <td>0.0</td>\n",
              "      <td>UEFA</td>\n",
              "    </tr>\n",
              "    <tr>\n",
              "      <th>21435</th>\n",
              "      <td>2022-09-30</td>\n",
              "      <td>Fiji</td>\n",
              "      <td>Solomon Islands</td>\n",
              "      <td>1.0</td>\n",
              "      <td>0.0</td>\n",
              "      <td>MSG Prime Minister's Cup</td>\n",
              "      <td>Luganville</td>\n",
              "      <td>Vanuatu</td>\n",
              "      <td>True</td>\n",
              "      <td>2022-09-30</td>\n",
              "      <td>...</td>\n",
              "      <td>0.0</td>\n",
              "      <td>OFC</td>\n",
              "      <td>2022-09-30</td>\n",
              "      <td>137.0</td>\n",
              "      <td>Solomon Islands</td>\n",
              "      <td>SOL</td>\n",
              "      <td>1092.56</td>\n",
              "      <td>1092.56</td>\n",
              "      <td>0.0</td>\n",
              "      <td>OFC</td>\n",
              "    </tr>\n",
              "  </tbody>\n",
              "</table>\n",
              "<p>21436 rows × 25 columns</p>\n",
              "</div>"
            ],
            "text/plain": [
              "            date     home_team         away_team  home_score  away_score  \\\n",
              "0     1993-01-01         Ghana              Mali         1.0         1.0   \n",
              "1     1993-01-02         Gabon      Burkina Faso         1.0         1.0   \n",
              "2     1993-01-03  Burkina Faso              Mali         1.0         0.0   \n",
              "3     1993-01-03         Gabon             Ghana         2.0         3.0   \n",
              "4     1993-01-08        Uganda          Tanzania         3.0         1.0   \n",
              "...          ...           ...               ...         ...         ...   \n",
              "21431 2022-09-27        Norway            Serbia         0.0         2.0   \n",
              "21432 2022-09-27        Sweden          Slovenia         1.0         1.0   \n",
              "21433 2022-09-27        Kosovo            Cyprus         5.0         1.0   \n",
              "21434 2022-09-27        Greece  Northern Ireland         3.0         1.0   \n",
              "21435 2022-09-30          Fiji   Solomon Islands         1.0         0.0   \n",
              "\n",
              "                     tournament        city  country  neutral rank_date_home  \\\n",
              "0                      Friendly  Libreville    Gabon     True     1993-01-01   \n",
              "1                      Friendly  Libreville    Gabon    False     1993-01-02   \n",
              "2                      Friendly  Libreville    Gabon     True     1993-01-03   \n",
              "3                      Friendly  Libreville    Gabon    False     1993-01-03   \n",
              "4                      Friendly     Kampala   Uganda    False     1993-01-08   \n",
              "...                         ...         ...      ...      ...            ...   \n",
              "21431       UEFA Nations League        Oslo   Norway    False     2022-09-27   \n",
              "21432       UEFA Nations League   Stockholm   Sweden    False     2022-09-27   \n",
              "21433       UEFA Nations League    Pristina   Kosovo    False     2022-09-27   \n",
              "21434       UEFA Nations League      Athens   Greece    False     2022-09-27   \n",
              "21435  MSG Prime Minister's Cup  Luganville  Vanuatu     True     2022-09-30   \n",
              "\n",
              "       ...  rank_change_home confederation_home rank_date_away  rank_away  \\\n",
              "0      ...               0.0                CAF     1993-01-01       69.0   \n",
              "1      ...               0.0                CAF     1993-01-02       97.0   \n",
              "2      ...               0.0                CAF     1993-01-03       69.0   \n",
              "3      ...               0.0                CAF     1993-01-03       39.0   \n",
              "4      ...               0.0                CAF     1993-01-08       80.0   \n",
              "...    ...               ...                ...            ...        ...   \n",
              "21431  ...               0.0               UEFA     2022-09-27       25.0   \n",
              "21432  ...               0.0               UEFA     2022-09-27       65.0   \n",
              "21433  ...               0.0               UEFA     2022-09-27      108.0   \n",
              "21434  ...               1.0               UEFA     2022-09-27       58.0   \n",
              "21435  ...               0.0                OFC     2022-09-30      137.0   \n",
              "\n",
              "       country_full_away  country_abrv_away total_points_away  \\\n",
              "0                   Mali                MLI             22.00   \n",
              "1           Burkina Faso                BFA             11.00   \n",
              "2                   Mali                MLI             22.00   \n",
              "3                  Ghana                GHA             34.00   \n",
              "4               Tanzania                TAN             15.00   \n",
              "...                  ...                ...               ...   \n",
              "21431             Serbia                SRB           1549.53   \n",
              "21432           Slovenia                SVN           1372.48   \n",
              "21433             Cyprus                CYP           1180.52   \n",
              "21434   Northern Ireland                NIR           1399.10   \n",
              "21435    Solomon Islands                SOL           1092.56   \n",
              "\n",
              "      previous_points_away  rank_change_away confederation_away  \n",
              "0                     0.00               0.0                CAF  \n",
              "1                     0.00               0.0                CAF  \n",
              "2                     0.00               0.0                CAF  \n",
              "3                     0.00               0.0                CAF  \n",
              "4                     0.00               0.0                CAF  \n",
              "...                    ...               ...                ...  \n",
              "21431              1549.53               0.0               UEFA  \n",
              "21432              1372.48               0.0               UEFA  \n",
              "21433              1180.52               1.0               UEFA  \n",
              "21434              1399.10               0.0               UEFA  \n",
              "21435              1092.56               0.0                OFC  \n",
              "\n",
              "[21436 rows x 25 columns]"
            ]
          },
          "execution_count": 13,
          "metadata": {},
          "output_type": "execute_result"
        }
      ],
      "source": [
        "allmatchstats"
      ]
    },
    {
      "cell_type": "code",
      "execution_count": null,
      "id": "523837e3",
      "metadata": {
        "id": "523837e3"
      },
      "outputs": [],
      "source": [
        "# calculated stats \n",
        "calculatedstats = pd.DataFrame([])\n",
        "calculatedstats['date'] = allmatchstats['date']\n",
        "calculatedstats['home_team'] = allmatchstats['home_team']\n",
        "calculatedstats['away_team'] = allmatchstats['away_team']\n",
        "calculatedstats['rank_difference'] = allmatchstats['rank_home'] - allmatchstats['rank_away']\n",
        "calculatedstats['rank_avg'] = (allmatchstats['rank_home'] + allmatchstats['rank_home']) / 2\n",
        "calculatedstats['home_score_diff'] = allmatchstats['home_score'] - allmatchstats['away_score']\n",
        "calculatedstats['point_diff']  = allmatchstats['total_points_home'] - allmatchstats['total_points_away']\n",
        "\n",
        "result = []\n",
        "home_score_diff = calculatedstats['home_score_diff'].values \n",
        "\n",
        "calculatedstats['home_result'] = home_score_diff > 0\n",
        "calculatedstats['home_result'] = calculatedstats['home_result'].map(str)\n",
        "\n",
        "\n",
        "for ele in home_score_diff:\n",
        "    if ele < 0: \n",
        "        calculatedstats['home_result'] = calculatedstats['home_result'].replace('False','Loss')\n",
        "    #if ele == 0: \n",
        "        #calculatedstats['home_result'] = calculatedstats['home_result'].replace('False','Draw')\n",
        "    if ele > 0: \n",
        "        calculatedstats['home_result'] = calculatedstats['home_result'].replace('True','Win')\n",
        "\n",
        "calculatedstats['is_worldcup'] = allmatchstats['tournament'] != 'Friendly'       \n",
        "\n"
      ]
    },
    {
      "cell_type": "code",
      "execution_count": null,
      "id": "b342d4a9",
      "metadata": {
        "scrolled": false,
        "id": "b342d4a9",
        "outputId": "a05c3ff6-4bb3-47c0-ff80-8dd3b216ad54"
      },
      "outputs": [
        {
          "data": {
            "text/html": [
              "<div>\n",
              "<style scoped>\n",
              "    .dataframe tbody tr th:only-of-type {\n",
              "        vertical-align: middle;\n",
              "    }\n",
              "\n",
              "    .dataframe tbody tr th {\n",
              "        vertical-align: top;\n",
              "    }\n",
              "\n",
              "    .dataframe thead th {\n",
              "        text-align: right;\n",
              "    }\n",
              "</style>\n",
              "<table border=\"1\" class=\"dataframe\">\n",
              "  <thead>\n",
              "    <tr style=\"text-align: right;\">\n",
              "      <th></th>\n",
              "      <th>date</th>\n",
              "      <th>home_team</th>\n",
              "      <th>away_team</th>\n",
              "      <th>rank_difference</th>\n",
              "      <th>rank_avg</th>\n",
              "      <th>home_score_diff</th>\n",
              "      <th>point_diff</th>\n",
              "      <th>home_result</th>\n",
              "      <th>is_worldcup</th>\n",
              "    </tr>\n",
              "  </thead>\n",
              "  <tbody>\n",
              "    <tr>\n",
              "      <th>0</th>\n",
              "      <td>1993-01-01</td>\n",
              "      <td>Ghana</td>\n",
              "      <td>Mali</td>\n",
              "      <td>-30.0</td>\n",
              "      <td>39.0</td>\n",
              "      <td>0.0</td>\n",
              "      <td>12.00</td>\n",
              "      <td>Loss</td>\n",
              "      <td>False</td>\n",
              "    </tr>\n",
              "    <tr>\n",
              "      <th>1</th>\n",
              "      <td>1993-01-02</td>\n",
              "      <td>Gabon</td>\n",
              "      <td>Burkina Faso</td>\n",
              "      <td>-42.0</td>\n",
              "      <td>55.0</td>\n",
              "      <td>0.0</td>\n",
              "      <td>16.00</td>\n",
              "      <td>Loss</td>\n",
              "      <td>False</td>\n",
              "    </tr>\n",
              "    <tr>\n",
              "      <th>2</th>\n",
              "      <td>1993-01-03</td>\n",
              "      <td>Burkina Faso</td>\n",
              "      <td>Mali</td>\n",
              "      <td>28.0</td>\n",
              "      <td>97.0</td>\n",
              "      <td>1.0</td>\n",
              "      <td>-11.00</td>\n",
              "      <td>Win</td>\n",
              "      <td>False</td>\n",
              "    </tr>\n",
              "    <tr>\n",
              "      <th>3</th>\n",
              "      <td>1993-01-03</td>\n",
              "      <td>Gabon</td>\n",
              "      <td>Ghana</td>\n",
              "      <td>16.0</td>\n",
              "      <td>55.0</td>\n",
              "      <td>-1.0</td>\n",
              "      <td>-7.00</td>\n",
              "      <td>Loss</td>\n",
              "      <td>False</td>\n",
              "    </tr>\n",
              "    <tr>\n",
              "      <th>4</th>\n",
              "      <td>1993-01-08</td>\n",
              "      <td>Uganda</td>\n",
              "      <td>Tanzania</td>\n",
              "      <td>12.0</td>\n",
              "      <td>92.0</td>\n",
              "      <td>2.0</td>\n",
              "      <td>-3.00</td>\n",
              "      <td>Win</td>\n",
              "      <td>False</td>\n",
              "    </tr>\n",
              "    <tr>\n",
              "      <th>...</th>\n",
              "      <td>...</td>\n",
              "      <td>...</td>\n",
              "      <td>...</td>\n",
              "      <td>...</td>\n",
              "      <td>...</td>\n",
              "      <td>...</td>\n",
              "      <td>...</td>\n",
              "      <td>...</td>\n",
              "      <td>...</td>\n",
              "    </tr>\n",
              "    <tr>\n",
              "      <th>21431</th>\n",
              "      <td>2022-09-27</td>\n",
              "      <td>Norway</td>\n",
              "      <td>Serbia</td>\n",
              "      <td>11.0</td>\n",
              "      <td>36.0</td>\n",
              "      <td>-2.0</td>\n",
              "      <td>-60.96</td>\n",
              "      <td>Loss</td>\n",
              "      <td>True</td>\n",
              "    </tr>\n",
              "    <tr>\n",
              "      <th>21432</th>\n",
              "      <td>2022-09-27</td>\n",
              "      <td>Sweden</td>\n",
              "      <td>Slovenia</td>\n",
              "      <td>-45.0</td>\n",
              "      <td>20.0</td>\n",
              "      <td>0.0</td>\n",
              "      <td>190.96</td>\n",
              "      <td>Loss</td>\n",
              "      <td>True</td>\n",
              "    </tr>\n",
              "    <tr>\n",
              "      <th>21433</th>\n",
              "      <td>2022-09-27</td>\n",
              "      <td>Kosovo</td>\n",
              "      <td>Cyprus</td>\n",
              "      <td>-2.0</td>\n",
              "      <td>106.0</td>\n",
              "      <td>4.0</td>\n",
              "      <td>3.38</td>\n",
              "      <td>Win</td>\n",
              "      <td>True</td>\n",
              "    </tr>\n",
              "    <tr>\n",
              "      <th>21434</th>\n",
              "      <td>2022-09-27</td>\n",
              "      <td>Greece</td>\n",
              "      <td>Northern Ireland</td>\n",
              "      <td>-9.0</td>\n",
              "      <td>49.0</td>\n",
              "      <td>2.0</td>\n",
              "      <td>42.35</td>\n",
              "      <td>Win</td>\n",
              "      <td>True</td>\n",
              "    </tr>\n",
              "    <tr>\n",
              "      <th>21435</th>\n",
              "      <td>2022-09-30</td>\n",
              "      <td>Fiji</td>\n",
              "      <td>Solomon Islands</td>\n",
              "      <td>26.0</td>\n",
              "      <td>163.0</td>\n",
              "      <td>1.0</td>\n",
              "      <td>-99.19</td>\n",
              "      <td>Win</td>\n",
              "      <td>True</td>\n",
              "    </tr>\n",
              "  </tbody>\n",
              "</table>\n",
              "<p>21436 rows × 9 columns</p>\n",
              "</div>"
            ],
            "text/plain": [
              "            date     home_team         away_team  rank_difference  rank_avg  \\\n",
              "0     1993-01-01         Ghana              Mali            -30.0      39.0   \n",
              "1     1993-01-02         Gabon      Burkina Faso            -42.0      55.0   \n",
              "2     1993-01-03  Burkina Faso              Mali             28.0      97.0   \n",
              "3     1993-01-03         Gabon             Ghana             16.0      55.0   \n",
              "4     1993-01-08        Uganda          Tanzania             12.0      92.0   \n",
              "...          ...           ...               ...              ...       ...   \n",
              "21431 2022-09-27        Norway            Serbia             11.0      36.0   \n",
              "21432 2022-09-27        Sweden          Slovenia            -45.0      20.0   \n",
              "21433 2022-09-27        Kosovo            Cyprus             -2.0     106.0   \n",
              "21434 2022-09-27        Greece  Northern Ireland             -9.0      49.0   \n",
              "21435 2022-09-30          Fiji   Solomon Islands             26.0     163.0   \n",
              "\n",
              "       home_score_diff  point_diff home_result  is_worldcup  \n",
              "0                  0.0       12.00        Loss        False  \n",
              "1                  0.0       16.00        Loss        False  \n",
              "2                  1.0      -11.00         Win        False  \n",
              "3                 -1.0       -7.00        Loss        False  \n",
              "4                  2.0       -3.00         Win        False  \n",
              "...                ...         ...         ...          ...  \n",
              "21431             -2.0      -60.96        Loss         True  \n",
              "21432              0.0      190.96        Loss         True  \n",
              "21433              4.0        3.38         Win         True  \n",
              "21434              2.0       42.35         Win         True  \n",
              "21435              1.0      -99.19         Win         True  \n",
              "\n",
              "[21436 rows x 9 columns]"
            ]
          },
          "execution_count": 15,
          "metadata": {},
          "output_type": "execute_result"
        }
      ],
      "source": [
        "calculatedstats "
      ]
    },
    {
      "cell_type": "code",
      "execution_count": null,
      "id": "bdca9b7a",
      "metadata": {
        "id": "bdca9b7a",
        "outputId": "be7fc08a-78b0-4546-8c3a-3e93b1a442bb"
      },
      "outputs": [
        {
          "name": "stderr",
          "output_type": "stream",
          "text": [
            "/var/folders/xj/3xy_v_w504s32_3225pgf8zm0000gn/T/ipykernel_73024/348631761.py:3: SettingWithCopyWarning: \n",
            "A value is trying to be set on a copy of a slice from a DataFrame.\n",
            "Try using .loc[row_indexer,col_indexer] = value instead\n",
            "\n",
            "See the caveats in the documentation: https://pandas.pydata.org/pandas-docs/stable/user_guide/indexing.html#returning-a-view-versus-a-copy\n",
            "  w_l_outcome['home_result_TF'] = w_l_outcome['home_result'] == 'Win'\n"
          ]
        },
        {
          "data": {
            "text/html": [
              "<div>\n",
              "<style scoped>\n",
              "    .dataframe tbody tr th:only-of-type {\n",
              "        vertical-align: middle;\n",
              "    }\n",
              "\n",
              "    .dataframe tbody tr th {\n",
              "        vertical-align: top;\n",
              "    }\n",
              "\n",
              "    .dataframe thead th {\n",
              "        text-align: right;\n",
              "    }\n",
              "</style>\n",
              "<table border=\"1\" class=\"dataframe\">\n",
              "  <thead>\n",
              "    <tr style=\"text-align: right;\">\n",
              "      <th></th>\n",
              "      <th>date</th>\n",
              "      <th>home_team</th>\n",
              "      <th>away_team</th>\n",
              "      <th>rank_difference</th>\n",
              "      <th>rank_avg</th>\n",
              "      <th>home_score_diff</th>\n",
              "      <th>point_diff</th>\n",
              "      <th>home_result</th>\n",
              "      <th>is_worldcup</th>\n",
              "      <th>home_result_TF</th>\n",
              "    </tr>\n",
              "  </thead>\n",
              "  <tbody>\n",
              "    <tr>\n",
              "      <th>2</th>\n",
              "      <td>1993-01-03</td>\n",
              "      <td>Burkina Faso</td>\n",
              "      <td>Mali</td>\n",
              "      <td>28.0</td>\n",
              "      <td>97.0</td>\n",
              "      <td>1.0</td>\n",
              "      <td>-11.00</td>\n",
              "      <td>Win</td>\n",
              "      <td>False</td>\n",
              "      <td>True</td>\n",
              "    </tr>\n",
              "    <tr>\n",
              "      <th>3</th>\n",
              "      <td>1993-01-03</td>\n",
              "      <td>Gabon</td>\n",
              "      <td>Ghana</td>\n",
              "      <td>16.0</td>\n",
              "      <td>55.0</td>\n",
              "      <td>-1.0</td>\n",
              "      <td>-7.00</td>\n",
              "      <td>Loss</td>\n",
              "      <td>False</td>\n",
              "      <td>False</td>\n",
              "    </tr>\n",
              "    <tr>\n",
              "      <th>4</th>\n",
              "      <td>1993-01-08</td>\n",
              "      <td>Uganda</td>\n",
              "      <td>Tanzania</td>\n",
              "      <td>12.0</td>\n",
              "      <td>92.0</td>\n",
              "      <td>2.0</td>\n",
              "      <td>-3.00</td>\n",
              "      <td>Win</td>\n",
              "      <td>False</td>\n",
              "      <td>True</td>\n",
              "    </tr>\n",
              "    <tr>\n",
              "      <th>7</th>\n",
              "      <td>1993-01-10</td>\n",
              "      <td>Botswana</td>\n",
              "      <td>South Africa</td>\n",
              "      <td>15.0</td>\n",
              "      <td>139.0</td>\n",
              "      <td>-2.0</td>\n",
              "      <td>-3.00</td>\n",
              "      <td>Loss</td>\n",
              "      <td>False</td>\n",
              "      <td>False</td>\n",
              "    </tr>\n",
              "    <tr>\n",
              "      <th>8</th>\n",
              "      <td>1993-01-10</td>\n",
              "      <td>Senegal</td>\n",
              "      <td>Algeria</td>\n",
              "      <td>21.0</td>\n",
              "      <td>51.0</td>\n",
              "      <td>-1.0</td>\n",
              "      <td>-12.00</td>\n",
              "      <td>Loss</td>\n",
              "      <td>True</td>\n",
              "      <td>False</td>\n",
              "    </tr>\n",
              "    <tr>\n",
              "      <th>...</th>\n",
              "      <td>...</td>\n",
              "      <td>...</td>\n",
              "      <td>...</td>\n",
              "      <td>...</td>\n",
              "      <td>...</td>\n",
              "      <td>...</td>\n",
              "      <td>...</td>\n",
              "      <td>...</td>\n",
              "      <td>...</td>\n",
              "      <td>...</td>\n",
              "    </tr>\n",
              "    <tr>\n",
              "      <th>21428</th>\n",
              "      <td>2022-09-27</td>\n",
              "      <td>Republic of Ireland</td>\n",
              "      <td>Armenia</td>\n",
              "      <td>-45.0</td>\n",
              "      <td>47.0</td>\n",
              "      <td>1.0</td>\n",
              "      <td>200.06</td>\n",
              "      <td>Win</td>\n",
              "      <td>True</td>\n",
              "      <td>True</td>\n",
              "    </tr>\n",
              "    <tr>\n",
              "      <th>21431</th>\n",
              "      <td>2022-09-27</td>\n",
              "      <td>Norway</td>\n",
              "      <td>Serbia</td>\n",
              "      <td>11.0</td>\n",
              "      <td>36.0</td>\n",
              "      <td>-2.0</td>\n",
              "      <td>-60.96</td>\n",
              "      <td>Loss</td>\n",
              "      <td>True</td>\n",
              "      <td>False</td>\n",
              "    </tr>\n",
              "    <tr>\n",
              "      <th>21433</th>\n",
              "      <td>2022-09-27</td>\n",
              "      <td>Kosovo</td>\n",
              "      <td>Cyprus</td>\n",
              "      <td>-2.0</td>\n",
              "      <td>106.0</td>\n",
              "      <td>4.0</td>\n",
              "      <td>3.38</td>\n",
              "      <td>Win</td>\n",
              "      <td>True</td>\n",
              "      <td>True</td>\n",
              "    </tr>\n",
              "    <tr>\n",
              "      <th>21434</th>\n",
              "      <td>2022-09-27</td>\n",
              "      <td>Greece</td>\n",
              "      <td>Northern Ireland</td>\n",
              "      <td>-9.0</td>\n",
              "      <td>49.0</td>\n",
              "      <td>2.0</td>\n",
              "      <td>42.35</td>\n",
              "      <td>Win</td>\n",
              "      <td>True</td>\n",
              "      <td>True</td>\n",
              "    </tr>\n",
              "    <tr>\n",
              "      <th>21435</th>\n",
              "      <td>2022-09-30</td>\n",
              "      <td>Fiji</td>\n",
              "      <td>Solomon Islands</td>\n",
              "      <td>26.0</td>\n",
              "      <td>163.0</td>\n",
              "      <td>1.0</td>\n",
              "      <td>-99.19</td>\n",
              "      <td>Win</td>\n",
              "      <td>True</td>\n",
              "      <td>True</td>\n",
              "    </tr>\n",
              "  </tbody>\n",
              "</table>\n",
              "<p>16284 rows × 10 columns</p>\n",
              "</div>"
            ],
            "text/plain": [
              "            date            home_team         away_team  rank_difference  \\\n",
              "2     1993-01-03         Burkina Faso              Mali             28.0   \n",
              "3     1993-01-03                Gabon             Ghana             16.0   \n",
              "4     1993-01-08               Uganda          Tanzania             12.0   \n",
              "7     1993-01-10             Botswana      South Africa             15.0   \n",
              "8     1993-01-10              Senegal           Algeria             21.0   \n",
              "...          ...                  ...               ...              ...   \n",
              "21428 2022-09-27  Republic of Ireland           Armenia            -45.0   \n",
              "21431 2022-09-27               Norway            Serbia             11.0   \n",
              "21433 2022-09-27               Kosovo            Cyprus             -2.0   \n",
              "21434 2022-09-27               Greece  Northern Ireland             -9.0   \n",
              "21435 2022-09-30                 Fiji   Solomon Islands             26.0   \n",
              "\n",
              "       rank_avg  home_score_diff  point_diff home_result  is_worldcup  \\\n",
              "2          97.0              1.0      -11.00         Win        False   \n",
              "3          55.0             -1.0       -7.00        Loss        False   \n",
              "4          92.0              2.0       -3.00         Win        False   \n",
              "7         139.0             -2.0       -3.00        Loss        False   \n",
              "8          51.0             -1.0      -12.00        Loss         True   \n",
              "...         ...              ...         ...         ...          ...   \n",
              "21428      47.0              1.0      200.06         Win         True   \n",
              "21431      36.0             -2.0      -60.96        Loss         True   \n",
              "21433     106.0              4.0        3.38         Win         True   \n",
              "21434      49.0              2.0       42.35         Win         True   \n",
              "21435     163.0              1.0      -99.19         Win         True   \n",
              "\n",
              "       home_result_TF  \n",
              "2                True  \n",
              "3               False  \n",
              "4                True  \n",
              "7               False  \n",
              "8               False  \n",
              "...               ...  \n",
              "21428            True  \n",
              "21431           False  \n",
              "21433            True  \n",
              "21434            True  \n",
              "21435            True  \n",
              "\n",
              "[16284 rows x 10 columns]"
            ]
          },
          "execution_count": 16,
          "metadata": {},
          "output_type": "execute_result"
        }
      ],
      "source": [
        "w_l_outcomemask = calculatedstats['home_score_diff'] != 0\n",
        "w_l_outcome = calculatedstats[w_l_outcomemask]\n",
        "w_l_outcome['home_result_TF'] = w_l_outcome['home_result'] == 'Win'\n",
        "w_l_outcome"
      ]
    },
    {
      "cell_type": "code",
      "execution_count": null,
      "id": "d7b60381",
      "metadata": {
        "id": "d7b60381",
        "outputId": "180b0511-1483-41bc-c9fa-2e692d895e0f"
      },
      "outputs": [
        {
          "data": {
            "text/plain": [
              "<AxesSubplot:>"
            ]
          },
          "execution_count": 93,
          "metadata": {},
          "output_type": "execute_result"
        },
        {
          "data": {
            "image/png": "[encoded data removed]",
            "text/plain": [
              "<Figure size 720x720 with 2 Axes>"
            ]
          },
          "metadata": {
            "needs_background": "light"
          },
          "output_type": "display_data"
        }
      ],
      "source": [
        "fig, ax = plt.subplots()\n",
        "fig.set_size_inches(10, 10)\n",
        "corr1 = w_l_outcome.corr()\n",
        "corr2 = allmatchstats.corr()\n",
        "sns.heatmap(corr1,annot=True)"
      ]
    },
    {
      "cell_type": "code",
      "execution_count": null,
      "id": "17808298",
      "metadata": {
        "id": "17808298",
        "outputId": "bf81d872-3f6a-4754-e406-aa4f4154db46"
      },
      "outputs": [
        {
          "data": {
            "text/plain": [
              "<AxesSubplot:>"
            ]
          },
          "execution_count": 95,
          "metadata": {},
          "output_type": "execute_result"
        },
        {
          "data": {
            "image/png": "[encoded data removed]",
            "text/plain": [
              "<Figure size 720x720 with 2 Axes>"
            ]
          },
          "metadata": {
            "needs_background": "light"
          },
          "output_type": "display_data"
        }
      ],
      "source": [
        "fig, ax = plt.subplots()\n",
        "fig.set_size_inches(10, 10)\n",
        "sns.heatmap(corr2,annot=True)"
      ]
    },
    {
      "cell_type": "code",
      "execution_count": null,
      "id": "8ea53c61",
      "metadata": {
        "id": "8ea53c61",
        "outputId": "3985d7d3-238b-409a-b094-c4345a7802e6"
      },
      "outputs": [
        {
          "data": {
            "text/html": [
              "<div>\n",
              "<style scoped>\n",
              "    .dataframe tbody tr th:only-of-type {\n",
              "        vertical-align: middle;\n",
              "    }\n",
              "\n",
              "    .dataframe tbody tr th {\n",
              "        vertical-align: top;\n",
              "    }\n",
              "\n",
              "    .dataframe thead th {\n",
              "        text-align: right;\n",
              "    }\n",
              "</style>\n",
              "<table border=\"1\" class=\"dataframe\">\n",
              "  <thead>\n",
              "    <tr style=\"text-align: right;\">\n",
              "      <th></th>\n",
              "      <th>rank_difference</th>\n",
              "      <th>rank_avg</th>\n",
              "      <th>home_score_diff</th>\n",
              "      <th>point_diff</th>\n",
              "    </tr>\n",
              "  </thead>\n",
              "  <tbody>\n",
              "    <tr>\n",
              "      <th>count</th>\n",
              "      <td>16284.000000</td>\n",
              "      <td>16284.000000</td>\n",
              "      <td>16284.000000</td>\n",
              "      <td>16284.000000</td>\n",
              "    </tr>\n",
              "    <tr>\n",
              "      <th>mean</th>\n",
              "      <td>-4.803611</td>\n",
              "      <td>77.554962</td>\n",
              "      <td>0.691845</td>\n",
              "      <td>19.859278</td>\n",
              "    </tr>\n",
              "    <tr>\n",
              "      <th>std</th>\n",
              "      <td>55.596279</td>\n",
              "      <td>52.908112</td>\n",
              "      <td>2.497603</td>\n",
              "      <td>282.021780</td>\n",
              "    </tr>\n",
              "    <tr>\n",
              "      <th>min</th>\n",
              "      <td>-209.000000</td>\n",
              "      <td>1.000000</td>\n",
              "      <td>-15.000000</td>\n",
              "      <td>-1757.000000</td>\n",
              "    </tr>\n",
              "    <tr>\n",
              "      <th>25%</th>\n",
              "      <td>-39.000000</td>\n",
              "      <td>32.000000</td>\n",
              "      <td>-1.000000</td>\n",
              "      <td>-93.000000</td>\n",
              "    </tr>\n",
              "    <tr>\n",
              "      <th>50%</th>\n",
              "      <td>-5.000000</td>\n",
              "      <td>71.000000</td>\n",
              "      <td>1.000000</td>\n",
              "      <td>9.000000</td>\n",
              "    </tr>\n",
              "    <tr>\n",
              "      <th>75%</th>\n",
              "      <td>28.000000</td>\n",
              "      <td>116.000000</td>\n",
              "      <td>2.000000</td>\n",
              "      <td>147.000000</td>\n",
              "    </tr>\n",
              "    <tr>\n",
              "      <th>max</th>\n",
              "      <td>210.000000</td>\n",
              "      <td>211.000000</td>\n",
              "      <td>31.000000</td>\n",
              "      <td>1592.000000</td>\n",
              "    </tr>\n",
              "  </tbody>\n",
              "</table>\n",
              "</div>"
            ],
            "text/plain": [
              "       rank_difference      rank_avg  home_score_diff    point_diff\n",
              "count     16284.000000  16284.000000     16284.000000  16284.000000\n",
              "mean         -4.803611     77.554962         0.691845     19.859278\n",
              "std          55.596279     52.908112         2.497603    282.021780\n",
              "min        -209.000000      1.000000       -15.000000  -1757.000000\n",
              "25%         -39.000000     32.000000        -1.000000    -93.000000\n",
              "50%          -5.000000     71.000000         1.000000      9.000000\n",
              "75%          28.000000    116.000000         2.000000    147.000000\n",
              "max         210.000000    211.000000        31.000000   1592.000000"
            ]
          },
          "execution_count": 18,
          "metadata": {},
          "output_type": "execute_result"
        }
      ],
      "source": [
        "w_l_outcome.describe()"
      ]
    },
    {
      "cell_type": "markdown",
      "source": [
        "# Web scraping: top 50 players\n",
        "Add information ranking how many top 50 players a team has"
      ],
      "metadata": {
        "id": "vPKu3fu03ykr"
      },
      "id": "vPKu3fu03ykr"
    },
    {
      "cell_type": "code",
      "source": [
        "import requests\n",
        "from bs4 import BeautifulSoup\n",
        "\n",
        "url = \"https://www.espn.com/soccer/fifa-world-cup/story/4787456/world-cup-rank-the-50-best-footballers-of-qatar-2022\"\n",
        "response = requests.get(url)\n",
        "if response.status_code == 200:\n",
        "    print(\"Success\")\n",
        "else:\n",
        "    print(\"Failure\")\n",
        "    \n",
        "results_page = BeautifulSoup(response.content, 'lxml')\n",
        "\n",
        "# Get names and position on top 50:\n",
        "top_50 = {} \n",
        "for h2 in results_page.find_all('h2'):\n",
        "    rank, name = h2.get_text().split('.')\n",
        "    top_50[int(rank)] = [name[1:]]\n",
        "    \n",
        "# Add country:\n",
        "n = 50\n",
        "countries = []\n",
        "for p in results_page.find_all('p'):\n",
        "    #Check if it's the kind of p tag we are looking for:\n",
        "    if p.find('b'): #does it have b tags?\n",
        "        if p.find('b').get_text() == 'Country:': #is the first one Country?\n",
        "            if p.find('a'): #does it have a tags?\n",
        "                countries.append(p.find('a').get_text())\n",
        "                top_50[n].append(p.find('a').get_text())\n",
        "                n -= 1\n",
        "            else:\n",
        "                countries.append(p.get_text().split('\\n')[0].split(' ')[1])\n",
        "                top_50[n].append(p.get_text().split('\\n')[0].split(' ')[1])\n",
        "                n -= 1\n",
        "                \n",
        "# If there's only a link in Club, the algorithm will take the club as the country\n",
        "# Only 3 (22, 35 and 37): fix them manualy\n",
        "top_50[22][1] = 'England'\n",
        "top_50[35][1] = 'England'\n",
        "top_50[37][1] = 'France'"
      ],
      "metadata": {
        "id": "unFRCzz03yDC"
      },
      "id": "unFRCzz03yDC",
      "execution_count": null,
      "outputs": []
    },
    {
      "cell_type": "markdown",
      "source": [
        "Point system: countries get n points for every player they have in the n position of the rank"
      ],
      "metadata": {
        "id": "_p8BlERi4B21"
      },
      "id": "_p8BlERi4B21"
    },
    {
      "cell_type": "code",
      "source": [
        "countries_points_2 = {}\n",
        "for n, top in top_50.items():\n",
        "    if top[1] in countries_points_2.keys(): #country already added \n",
        "        countries_points_2[top[1]] += n\n",
        "    else: #country not added yet\n",
        "        countries_points_2[top[1]] = n"
      ],
      "metadata": {
        "id": "BiibaHIy39sD"
      },
      "id": "BiibaHIy39sD",
      "execution_count": null,
      "outputs": []
    },
    {
      "cell_type": "code",
      "source": [
        "# Add columns with top_50 players info (home - away)\n",
        "def puntuate_country (x):\n",
        "    home = x['home_team']\n",
        "    away = x['away_team']\n",
        "    home = countries_points.get(home) if countries_points.get(home) else 0\n",
        "    away = countries_points.get(away) if countries_points.get(away) else 0\n",
        "    return home-away\n",
        "\n",
        "countries_points = countries_points_3 #which punctuation method\n",
        "#calculatedstats['top_50_diff'] = calculatedstats.apply(puntuate_country, axis=1)\n",
        "#calculatedstats['top_50_diff'].unique()\n"
      ],
      "metadata": {
        "id": "mnFWAxSs4Rn7"
      },
      "id": "mnFWAxSs4Rn7",
      "execution_count": null,
      "outputs": []
    },
    {
      "cell_type": "markdown",
      "id": "3f2aa310",
      "metadata": {
        "id": "3f2aa310"
      },
      "source": [
        "# Modeling\n",
        "* pipeline\n",
        "* logistic regression \n",
        "* polynomial features\n",
        "* random forest\n"
      ]
    },
    {
      "cell_type": "markdown",
      "id": "7ab5cd79",
      "metadata": {
        "id": "7ab5cd79"
      },
      "source": [
        "### Polynomial Regression"
      ]
    },
    {
      "cell_type": "code",
      "execution_count": null,
      "id": "3a74766f",
      "metadata": {
        "id": "3a74766f"
      },
      "outputs": [],
      "source": [
        "# determine X and y values (independent and dependent variables)\n",
        "X, y = w_l_outcome[['rank_avg', 'rank_difference', 'point_diff','is_worldcup']], w_l_outcome['home_result_TF']"
      ]
    },
    {
      "cell_type": "code",
      "execution_count": null,
      "id": "93219142",
      "metadata": {
        "id": "93219142"
      },
      "outputs": [],
      "source": [
        "# splits the data into train and testing groups \n",
        "X_train, X_test, y_train, y_test = train_test_split(\n",
        "    X, y, test_size=0.2, random_state=50)"
      ]
    },
    {
      "cell_type": "code",
      "execution_count": null,
      "id": "2983494a",
      "metadata": {
        "id": "2983494a",
        "outputId": "79f16613-8311-4959-d9c5-a5221eafb2df"
      },
      "outputs": [
        {
          "name": "stderr",
          "output_type": "stream",
          "text": [
            "/Users/atisaxena/opt/anaconda3/lib/python3.9/site-packages/sklearn/linear_model/_logistic.py:814: ConvergenceWarning: lbfgs failed to converge (status=1):\n",
            "STOP: TOTAL NO. of ITERATIONS REACHED LIMIT.\n",
            "\n",
            "Increase the number of iterations (max_iter) or scale the data as shown in:\n",
            "    https://scikit-learn.org/stable/modules/preprocessing.html\n",
            "Please also refer to the documentation for alternative solver options:\n",
            "    https://scikit-learn.org/stable/modules/linear_model.html#logistic-regression\n",
            "  n_iter_i = _check_optimize_result(\n",
            "No artists with labels found to put in legend.  Note that artists whose label start with an underscore are ignored when legend() is called with no argument.\n"
          ]
        },
        {
          "data": {
            "text/plain": [
              "Text(0.5, 1.0, 'Performance on the Training set')"
            ]
          },
          "execution_count": 102,
          "metadata": {},
          "output_type": "execute_result"
        },
        {
          "data": {
            "image/png": "[encoded data removed]",
            "text/plain": [
              "<Figure size 432x288 with 1 Axes>"
            ]
          },
          "metadata": {
            "needs_background": "light"
          },
          "output_type": "display_data"
        },
        {
          "data": {
            "image/png": "[encoded data removed]",
            "text/plain": [
              "<Figure size 1440x720 with 3 Axes>"
            ]
          },
          "metadata": {
            "needs_background": "light"
          },
          "output_type": "display_data"
        }
      ],
      "source": [
        "from sklearn.metrics import roc_curve,auc\n",
        "import pylab as pl\n",
        "%matplotlib inline\n",
        "\n",
        "# create a pipeline with two steps \n",
        "# first part of the Pipeline is to create a binomial distribution \n",
        "# second part of the Pipeline is to create a logistic regression \n",
        "model = Pipeline([\n",
        "    ('polynomial_features', PolynomialFeatures(degree=2)), # binomial\n",
        "    ('logistic_regression', linear_model.LogisticRegression(C=1e-5)) # logistic \n",
        "])\n",
        "\n",
        "\n",
        "model = model.fit(X_train, y_train)\n",
        "\n",
        "# use test set to test the model built from train set \n",
        "p_train = model.predict(X_train)\n",
        "p_test = model.predict(X_test)\n",
        "pp_test = model.predict_proba(X_test)[:,1]\n",
        "pl.plot([0, 1], [0, 1], 'k') #This plots the random (equal probability line)\n",
        "pl.xlim([0.0, 1.0])\n",
        "pl.ylim([0.0, 1.0])\n",
        "pl.xlabel('False Positive Rate')\n",
        "pl.ylabel('True Positive Rate')\n",
        "pl.legend(loc=\"lower right\")\n",
        "\n",
        "fpr, tpr, thresholds = roc_curve(y_test, pp_test)\n",
        "area = auc(fpr, tpr)\n",
        "pl.clf() #Clear the current figure\n",
        "pl.plot(fpr,tpr,label=\"Out-Sample ROC Curve with area = %1.2f\"%area)\n",
        "\n",
        "\n",
        "plt.figure(figsize=(20,10))\n",
        "ax = plt.subplot(1,3,1)\n",
        "ax.plot([0, 1], [0, 1], 'k')\n",
        "ax.plot(fpr, tpr)\n",
        "ax.set_title('AUC score is {0:0.2}'.format(roc_auc_score(y_test, pp_test)))\n",
        "ax.set_aspect(1)\n",
        "\n",
        "ax = plt.subplot(1,3,2)\n",
        "confusionmatrix = confusion_matrix(y_test, p_test)\n",
        "ax.imshow(confusionmatrix, cmap='Blues', clim = (0, confusionmatrix.max())) \n",
        "\n",
        "ax.set_xlabel('Predicted label')\n",
        "ax.set_title('Performance on the Test set')\n",
        "\n",
        "ax = plt.subplot(1,3,3)\n",
        "confusionmatrix = confusion_matrix(y_train, p_train)\n",
        "ax.imshow(confusionmatrix, cmap='Oranges', clim = (0, confusionmatrix.max())) \n",
        "ax.set_xlabel('Predicted label')\n",
        "ax.set_title('Performance on the Training set')"
      ]
    },
    {
      "cell_type": "code",
      "execution_count": null,
      "id": "8a76ae0e",
      "metadata": {
        "id": "8a76ae0e",
        "outputId": "29e09993-e8eb-4e74-c296-9509ff6d0178"
      },
      "outputs": [
        {
          "name": "stdout",
          "output_type": "stream",
          "text": [
            "Distribution overall for tournament games\n",
            "True     0.658868\n",
            "False    0.341132\n",
            "Name: is_worldcup, dtype: float64\n"
          ]
        },
        {
          "data": {
            "image/png": "[encoded data removed]",
            "text/plain": [
              "<Figure size 432x288 with 1 Axes>"
            ]
          },
          "metadata": {
            "needs_background": "light"
          },
          "output_type": "display_data"
        },
        {
          "data": {
            "image/png": "[encoded data removed]",
            "text/plain": [
              "<Figure size 432x288 with 1 Axes>"
            ]
          },
          "metadata": {
            "needs_background": "light"
          },
          "output_type": "display_data"
        },
        {
          "data": {
            "image/png": "[encoded data removed]",
            "text/plain": [
              "<Figure size 432x288 with 1 Axes>"
            ]
          },
          "metadata": {
            "needs_background": "light"
          },
          "output_type": "display_data"
        }
      ],
      "source": [
        "features = ['rank_avg', 'rank_difference', 'point_diff']\n",
        "wrongs = y_test != p_test\n",
        "\n",
        "for feature in features:\n",
        "    plt.figure()\n",
        "    plt.title(feature)\n",
        "    X_test.loc[wrongs, feature].plot.kde()\n",
        "    X.loc[:, feature].plot.kde()\n",
        "    plt.legend(['wrongs', 'all'])\n",
        "    \n",
        "\n",
        "print(\"Distribution overall for tournament games\")\n",
        "print(X['is_worldcup'].value_counts() / X.shape[0])"
      ]
    },
    {
      "cell_type": "code",
      "execution_count": null,
      "id": "f309643b",
      "metadata": {
        "id": "f309643b",
        "outputId": "62d3da4d-9120-44bc-f696-4b1993c62c95"
      },
      "outputs": [
        {
          "name": "stdout",
          "output_type": "stream",
          "text": [
            "False    2414\n",
            "True      843\n",
            "Name: home_result_TF, dtype: int64\n"
          ]
        },
        {
          "data": {
            "text/plain": [
              "0.6507870753935376"
            ]
          },
          "execution_count": 130,
          "metadata": {},
          "output_type": "execute_result"
        }
      ],
      "source": [
        "print(wrongs.value_counts())\n",
        "accuracypipeline = 1 - (843/2414)\n",
        "accuracypipeline"
      ]
    },
    {
      "cell_type": "markdown",
      "id": "d3a74762",
      "metadata": {
        "id": "d3a74762"
      },
      "source": [
        "### Creating a Dummy Table"
      ]
    },
    {
      "cell_type": "code",
      "execution_count": null,
      "id": "edd67158",
      "metadata": {
        "id": "edd67158"
      },
      "outputs": [],
      "source": [
        "dummies = pd.get_dummies(w_l_outcome)"
      ]
    },
    {
      "cell_type": "markdown",
      "id": "af896f50",
      "metadata": {
        "id": "af896f50"
      },
      "source": [
        "## Random Forest from class example "
      ]
    },
    {
      "cell_type": "code",
      "execution_count": null,
      "id": "87a4a654",
      "metadata": {
        "id": "87a4a654",
        "outputId": "928cee5d-5116-4048-b5c7-a8e95329de3d"
      },
      "outputs": [
        {
          "data": {
            "text/plain": [
              "RandomForestClassifier(n_estimators=20)"
            ]
          },
          "execution_count": 116,
          "metadata": {},
          "output_type": "execute_result"
        }
      ],
      "source": [
        "from sklearn.ensemble import RandomForestClassifier\n",
        "\n",
        "randomforestmodel = RandomForestClassifier(n_estimators=20)\n",
        "#np.ravel flattens the pandas Series into an np array. That's what the classifier needs\n",
        "randomforestmodel.fit(X_train,np.ravel(y_train))"
      ]
    },
    {
      "cell_type": "markdown",
      "id": "db6a2553",
      "metadata": {
        "id": "db6a2553"
      },
      "source": [
        "#### Accuracy of the Random Forest Model"
      ]
    },
    {
      "cell_type": "code",
      "execution_count": null,
      "id": "8491233b",
      "metadata": {
        "id": "8491233b",
        "outputId": "da378a02-6eeb-4bd6-efbf-8897c9e93bc6"
      },
      "outputs": [
        {
          "data": {
            "text/plain": [
              "0.7086275713847099"
            ]
          },
          "execution_count": 117,
          "metadata": {},
          "output_type": "execute_result"
        }
      ],
      "source": [
        "randomforestmodel.score(X_test,y_test)"
      ]
    },
    {
      "cell_type": "code",
      "execution_count": null,
      "id": "0853915c",
      "metadata": {
        "id": "0853915c",
        "outputId": "03117fc5-c3d4-447c-9e77-58e5e1abbdd7"
      },
      "outputs": [
        {
          "data": {
            "text/plain": [
              "array([[ 656,  506],\n",
              "       [ 443, 1652]])"
            ]
          },
          "execution_count": 142,
          "metadata": {},
          "output_type": "execute_result"
        },
        {
          "data": {
            "image/png": "[encoded data removed]",
            "text/plain": [
              "<Figure size 432x288 with 1 Axes>"
            ]
          },
          "metadata": {
            "needs_background": "light"
          },
          "output_type": "display_data"
        }
      ],
      "source": [
        "from sklearn.metrics import confusion_matrix\n",
        "y_pred = randomforestmodel.predict(X_test)\n",
        "cfm = confusion_matrix(np.ravel(y_test),y_pred)\n",
        "\n",
        "ax = plt.subplot(1,1,1)\n",
        "ax.imshow(cfm, cmap='Oranges', clim = (0, cfm.max())) \n",
        "\n",
        "cfm"
      ]
    },
    {
      "cell_type": "code",
      "execution_count": null,
      "id": "3f9cd869",
      "metadata": {
        "id": "3f9cd869",
        "outputId": "73621828-7ded-4db8-88df-9b5024db4f6c"
      },
      "outputs": [
        {
          "name": "stdout",
          "output_type": "stream",
          "text": [
            "Distribution overall for tournament games\n",
            "True     0.658868\n",
            "False    0.341132\n",
            "Name: is_worldcup, dtype: float64\n"
          ]
        },
        {
          "data": {
            "image/png": "[encoded data removed]",
            "text/plain": [
              "<Figure size 432x288 with 1 Axes>"
            ]
          },
          "metadata": {
            "needs_background": "light"
          },
          "output_type": "display_data"
        },
        {
          "data": {
            "image/png": "[encoded data removed]",
            "text/plain": [
              "<Figure size 432x288 with 1 Axes>"
            ]
          },
          "metadata": {
            "needs_background": "light"
          },
          "output_type": "display_data"
        },
        {
          "data": {
            "image/png": "[encoded data removed]",
            "text/plain": [
              "<Figure size 432x288 with 1 Axes>"
            ]
          },
          "metadata": {
            "needs_background": "light"
          },
          "output_type": "display_data"
        }
      ],
      "source": [
        "features = ['rank_avg', 'rank_difference', 'point_diff']\n",
        "wrongsrf = y_test != y_pred\n",
        "\n",
        "for feature in features:\n",
        "    plt.figure()\n",
        "    plt.title(feature)\n",
        "    X_test.loc[wrongsrf, feature].plot.kde()\n",
        "    X.loc[:, feature].plot.kde()\n",
        "    plt.legend(['wrongsrf', 'all'])\n",
        "    \n",
        "\n",
        "print(\"Distribution overall for tournament games\")\n",
        "print(X['is_worldcup'].value_counts() / X.shape[0])"
      ]
    },
    {
      "cell_type": "code",
      "execution_count": null,
      "id": "8c7a528c",
      "metadata": {
        "id": "8c7a528c",
        "outputId": "a30eb334-d747-47fb-85f0-f967c49236dc"
      },
      "outputs": [
        {
          "data": {
            "text/plain": [
              "Text(0.5, 0, 'Relative Importance')"
            ]
          },
          "execution_count": 143,
          "metadata": {},
          "output_type": "execute_result"
        },
        {
          "data": {
            "image/png": "[encoded data removed]",
            "text/plain": [
              "<Figure size 720x360 with 1 Axes>"
            ]
          },
          "metadata": {
            "needs_background": "light"
          },
          "output_type": "display_data"
        }
      ],
      "source": [
        "import matplotlib.pyplot as plt\n",
        "%matplotlib inline\n",
        "\n",
        "#feature_names = [key for key in w_l_outcome if not key=='home_result_TF']\n",
        "feature_names = ['rank_difference','rank_avg','point_diff','home_result','is_worldcup']\n",
        "importances = randomforestmodel.feature_importances_\n",
        "indices = np.argsort(importances)\n",
        "plt.figure(figsize=(10,5))\n",
        "plt.title('Feature Importances')\n",
        "plt.barh(range(len(indices)), importances[indices], color='orange', align='center')\n",
        "plt.yticks(range(len(indices)),np.array(feature_names)[indices])\n",
        "plt.xlabel('Relative Importance')"
      ]
    },
    {
      "cell_type": "markdown",
      "id": "4751098c",
      "metadata": {
        "id": "4751098c"
      },
      "source": [
        "# Round of 16 Simulations"
      ]
    },
    {
      "cell_type": "markdown",
      "id": "b32b2f86",
      "metadata": {
        "id": "b32b2f86"
      },
      "source": [
        "* Netherlands vs. USA \n",
        "* Argentina vs. Australia \n",
        "\n",
        "\n",
        "* England vs. Senegal \n",
        "* France vs. Poland \n",
        "\n",
        "\n",
        "\n",
        "\n",
        "* Japan vs. Croatia \n",
        "* Brazil vs South Korea \n",
        "\n",
        "\n",
        "\n",
        "* Morocco vs. Spain \n",
        "* Portugal vs. Switzerland "
      ]
    },
    {
      "cell_type": "code",
      "execution_count": null,
      "id": "31ce1ce2",
      "metadata": {
        "id": "31ce1ce2"
      },
      "outputs": [],
      "source": [
        "r16teams = ['Netherlands', 'USA', 'Argentina', 'Australia', 'England', 'Senegal', 'France', 'Poland', 'Japan', 'Croatia', 'Brazil', 'Korea Republic', 'Morocco', 'Spain', 'Portugal', 'Switzerland']"
      ]
    },
    {
      "cell_type": "code",
      "execution_count": null,
      "id": "634e6276",
      "metadata": {
        "id": "634e6276",
        "outputId": "de05a78f-4407-47b0-eb95-7bd8c24e54a7"
      },
      "outputs": [
        {
          "name": "stderr",
          "output_type": "stream",
          "text": [
            "/var/folders/xj/3xy_v_w504s32_3225pgf8zm0000gn/T/ipykernel_73024/252760802.py:2: SettingWithCopyWarning: \n",
            "A value is trying to be set on a copy of a slice from a DataFrame.\n",
            "Try using .loc[row_indexer,col_indexer] = value instead\n",
            "\n",
            "See the caveats in the documentation: https://pandas.pydata.org/pandas-docs/stable/user_guide/indexing.html#returning-a-view-versus-a-copy\n",
            "  world_cup_rankings['home'] = world_cup_rankings['country_full']\n"
          ]
        }
      ],
      "source": [
        "world_cup_rankings = rankings.loc[(rankings['rank_date'] == rankings['rank_date'].max()) & rankings['country_full'].isin(r16teams)]\n",
        "world_cup_rankings['home'] = world_cup_rankings['country_full']\n",
        "world_cup_rankings = world_cup_rankings.set_index(['country_full'])"
      ]
    },
    {
      "cell_type": "code",
      "execution_count": null,
      "id": "99840d7c",
      "metadata": {
        "id": "99840d7c"
      },
      "outputs": [],
      "source": [
        "r16dftotal = world_cup_rankings\n",
        "r16dftotal['away'] = ['Australia', 'Argentina', 'Korea Republic', 'Japan', 'Senegal', 'Poland', 'Croatia', 'Brazil', 'Spain', 'USA', 'France', 'Switzerland', 'England', 'Morocco', 'Portugal', 'Netherlands']"
      ]
    },
    {
      "cell_type": "code",
      "execution_count": null,
      "id": "6f43edd0",
      "metadata": {
        "id": "6f43edd0"
      },
      "outputs": [],
      "source": [
        "r16home = r16dftotal.loc[['Argentina', 'Netherlands', 'England', 'France', 'Japan', 'Brazil', 'Morocco', 'Portugal']]"
      ]
    },
    {
      "cell_type": "code",
      "execution_count": null,
      "id": "bd966608",
      "metadata": {
        "id": "bd966608"
      },
      "outputs": [],
      "source": [
        "r16away = r16dftotal.loc[['Australia', 'USA', 'Senegal', 'Poland', 'Croatia', 'Korea Republic', 'Spain', 'Switzerland']]"
      ]
    },
    {
      "cell_type": "code",
      "execution_count": null,
      "id": "a8a1a8ba",
      "metadata": {
        "id": "a8a1a8ba"
      },
      "outputs": [],
      "source": [
        "def run_r16_results(): \n",
        "    roundof16results = pd.DataFrame(([]), columns = ['home', 'away', 'pipeline home prob', 'rf home outcome', 'advances_pipeline', 'advances_rf'])\n",
        "    homelist = []\n",
        "    awaylist = []\n",
        "    pipelinelist = []\n",
        "    rflist = []\n",
        "\n",
        "\n",
        "    pairings = []\n",
        "    for i in range(0,8): \n",
        "        pair = (r16home['home'][i], r16home['away'][i])\n",
        "        pairings.append(pair)\n",
        "    \n",
        "    for home,away in pairings:\n",
        "        row = pd.DataFrame(np.array([[np.nan, np.nan, np.nan, True]]), columns=X_test.columns)\n",
        "        home_rank = r16dftotal.loc[home, 'rank']\n",
        "        home_points = r16dftotal.loc[home, 'total_points']\n",
        "        away_rank = r16dftotal.loc[away, 'rank']\n",
        "        away_points = r16dftotal.loc[away, 'total_points']\n",
        "        row['rank_avg'] = (home_rank + away_rank) / 2\n",
        "        row['rank_difference'] = home_rank - away_rank\n",
        "        row['point_diff'] = home_points - away_points\n",
        "    \n",
        "        # logistic / binomial pipeline model\n",
        "        home_win_prob_pipe = model.predict_proba(row)[:,1][0]\n",
        "        away_win_prob_pipe = 1 - home_win_prob_pipe\n",
        "    \n",
        "        # random forest model\n",
        "        rfhome_outcome = randomforestmodel.predict(row)\n",
        "    \n",
        "    \n",
        "        # create data for results table\n",
        "        homelist.append(home)\n",
        "        awaylist.append(away)\n",
        "        pipelinelist.append(home_win_prob_pipe)\n",
        "        rflist.append(rfhome_outcome)\n",
        "        \n",
        "        \n",
        "    roundof16results['team rank'] = r16home['rank'].values\n",
        "    roundof16results['away rank'] = r16away['rank'].values\n",
        "    \n",
        "    roundof16results['home'] = homelist\n",
        "    roundof16results['away'] = awaylist\n",
        "    roundof16results['pipeline home prob'] = pipelinelist\n",
        "    roundof16results['rf home outcome'] = rflist\n",
        "    \n",
        "    \n",
        "    # determine who advances pipeline\n",
        "    advances_pipeline = []\n",
        "    for i in range(0,8):\n",
        "        if roundof16results['pipeline home prob'][i] == .5:\n",
        "            advances_pipeline.append('Draw')\n",
        "        if roundof16results['pipeline home prob'][i] > .5:\n",
        "            advances_pipeline.append(roundof16results['home'][i])\n",
        "        if roundof16results['pipeline home prob'][i] < .5: \n",
        "            advances_pipeline.append(roundof16results['away'][i])\n",
        "\n",
        "    # determine who advances random forest\n",
        "    advances_rf = []\n",
        "    for i in range(0,8):\n",
        "        if roundof16results['rf home outcome'][i] == [True]:\n",
        "            advances_rf.append(roundof16results['home'][i])\n",
        "        else: \n",
        "            advances_rf.append(roundof16results['away'][i])\n",
        "    \n",
        "    roundof16results['advances_pipeline'] = advances_pipeline\n",
        "    roundof16results['advances_rf'] = advances_rf\n",
        "    \n",
        "    \n",
        "    return roundof16results\n",
        "    \n",
        "    "
      ]
    },
    {
      "cell_type": "code",
      "execution_count": null,
      "id": "6ceb790f",
      "metadata": {
        "id": "6ceb790f",
        "outputId": "87774777-7426-42d2-f224-b20cd62edb7d"
      },
      "outputs": [
        {
          "data": {
            "text/html": [
              "<div>\n",
              "<style scoped>\n",
              "    .dataframe tbody tr th:only-of-type {\n",
              "        vertical-align: middle;\n",
              "    }\n",
              "\n",
              "    .dataframe tbody tr th {\n",
              "        vertical-align: top;\n",
              "    }\n",
              "\n",
              "    .dataframe thead th {\n",
              "        text-align: right;\n",
              "    }\n",
              "</style>\n",
              "<table border=\"1\" class=\"dataframe\">\n",
              "  <thead>\n",
              "    <tr style=\"text-align: right;\">\n",
              "      <th></th>\n",
              "      <th>home</th>\n",
              "      <th>away</th>\n",
              "      <th>pipeline home prob</th>\n",
              "      <th>rf home outcome</th>\n",
              "      <th>advances_pipeline</th>\n",
              "      <th>advances_rf</th>\n",
              "      <th>team rank</th>\n",
              "      <th>away rank</th>\n",
              "    </tr>\n",
              "  </thead>\n",
              "  <tbody>\n",
              "    <tr>\n",
              "      <th>0</th>\n",
              "      <td>Argentina</td>\n",
              "      <td>Australia</td>\n",
              "      <td>0.772712</td>\n",
              "      <td>[True]</td>\n",
              "      <td>Argentina</td>\n",
              "      <td>Argentina</td>\n",
              "      <td>3.0</td>\n",
              "      <td>38.0</td>\n",
              "    </tr>\n",
              "    <tr>\n",
              "      <th>1</th>\n",
              "      <td>Netherlands</td>\n",
              "      <td>USA</td>\n",
              "      <td>0.575603</td>\n",
              "      <td>[True]</td>\n",
              "      <td>Netherlands</td>\n",
              "      <td>Netherlands</td>\n",
              "      <td>8.0</td>\n",
              "      <td>16.0</td>\n",
              "    </tr>\n",
              "    <tr>\n",
              "      <th>2</th>\n",
              "      <td>England</td>\n",
              "      <td>Senegal</td>\n",
              "      <td>0.642831</td>\n",
              "      <td>[True]</td>\n",
              "      <td>England</td>\n",
              "      <td>England</td>\n",
              "      <td>5.0</td>\n",
              "      <td>18.0</td>\n",
              "    </tr>\n",
              "    <tr>\n",
              "      <th>3</th>\n",
              "      <td>France</td>\n",
              "      <td>Poland</td>\n",
              "      <td>0.704380</td>\n",
              "      <td>[True]</td>\n",
              "      <td>France</td>\n",
              "      <td>France</td>\n",
              "      <td>4.0</td>\n",
              "      <td>26.0</td>\n",
              "    </tr>\n",
              "    <tr>\n",
              "      <th>4</th>\n",
              "      <td>Japan</td>\n",
              "      <td>Croatia</td>\n",
              "      <td>0.426615</td>\n",
              "      <td>[False]</td>\n",
              "      <td>Croatia</td>\n",
              "      <td>Croatia</td>\n",
              "      <td>24.0</td>\n",
              "      <td>12.0</td>\n",
              "    </tr>\n",
              "    <tr>\n",
              "      <th>5</th>\n",
              "      <td>Brazil</td>\n",
              "      <td>Korea Republic</td>\n",
              "      <td>0.769432</td>\n",
              "      <td>[True]</td>\n",
              "      <td>Brazil</td>\n",
              "      <td>Brazil</td>\n",
              "      <td>1.0</td>\n",
              "      <td>28.0</td>\n",
              "    </tr>\n",
              "    <tr>\n",
              "      <th>6</th>\n",
              "      <td>Morocco</td>\n",
              "      <td>Spain</td>\n",
              "      <td>0.366236</td>\n",
              "      <td>[False]</td>\n",
              "      <td>Spain</td>\n",
              "      <td>Spain</td>\n",
              "      <td>22.0</td>\n",
              "      <td>7.0</td>\n",
              "    </tr>\n",
              "    <tr>\n",
              "      <th>7</th>\n",
              "      <td>Portugal</td>\n",
              "      <td>Switzerland</td>\n",
              "      <td>0.551052</td>\n",
              "      <td>[True]</td>\n",
              "      <td>Portugal</td>\n",
              "      <td>Portugal</td>\n",
              "      <td>9.0</td>\n",
              "      <td>15.0</td>\n",
              "    </tr>\n",
              "  </tbody>\n",
              "</table>\n",
              "</div>"
            ],
            "text/plain": [
              "          home            away  pipeline home prob rf home outcome  \\\n",
              "0    Argentina       Australia            0.772712          [True]   \n",
              "1  Netherlands             USA            0.575603          [True]   \n",
              "2      England         Senegal            0.642831          [True]   \n",
              "3       France          Poland            0.704380          [True]   \n",
              "4        Japan         Croatia            0.426615         [False]   \n",
              "5       Brazil  Korea Republic            0.769432          [True]   \n",
              "6      Morocco           Spain            0.366236         [False]   \n",
              "7     Portugal     Switzerland            0.551052          [True]   \n",
              "\n",
              "  advances_pipeline  advances_rf  team rank  away rank  \n",
              "0         Argentina    Argentina        3.0       38.0  \n",
              "1       Netherlands  Netherlands        8.0       16.0  \n",
              "2           England      England        5.0       18.0  \n",
              "3            France       France        4.0       26.0  \n",
              "4           Croatia      Croatia       24.0       12.0  \n",
              "5            Brazil       Brazil        1.0       28.0  \n",
              "6             Spain        Spain       22.0        7.0  \n",
              "7          Portugal     Portugal        9.0       15.0  "
            ]
          },
          "execution_count": 34,
          "metadata": {},
          "output_type": "execute_result"
        }
      ],
      "source": [
        "roundof16results = run_r16_results()\n",
        "roundof16results"
      ]
    },
    {
      "cell_type": "markdown",
      "id": "6c34ef9e",
      "metadata": {
        "id": "6c34ef9e"
      },
      "source": [
        "# Quarterfinal Rounds"
      ]
    },
    {
      "cell_type": "code",
      "execution_count": null,
      "id": "346f3da9",
      "metadata": {
        "id": "346f3da9"
      },
      "outputs": [],
      "source": [
        "qfpairs_pipeline = [[roundof16results['advances_pipeline'][0], roundof16results['advances_pipeline'][1]], \n",
        "                    [roundof16results['advances_pipeline'][2], roundof16results['advances_pipeline'][3]], \n",
        "                    [roundof16results['advances_pipeline'][4], roundof16results['advances_pipeline'][5]], \n",
        "                    [roundof16results['advances_pipeline'][6], roundof16results['advances_pipeline'][7]]]"
      ]
    },
    {
      "cell_type": "code",
      "execution_count": null,
      "id": "dd81513e",
      "metadata": {
        "id": "dd81513e"
      },
      "outputs": [],
      "source": [
        "qfpairs_rf = [[roundof16results['advances_rf'][0], roundof16results['advances_rf'][1]], \n",
        "              [roundof16results['advances_rf'][2], roundof16results['advances_rf'][3]], \n",
        "              [roundof16results['advances_rf'][4], roundof16results['advances_rf'][5]], \n",
        "              [roundof16results['advances_rf'][6], roundof16results['advances_rf'][7]]]"
      ]
    },
    {
      "cell_type": "code",
      "execution_count": null,
      "id": "7cf1aea3",
      "metadata": {
        "id": "7cf1aea3"
      },
      "outputs": [],
      "source": [
        "participants_pipeline = sum(qfpairs_pipeline, [])\n",
        "participants_rf = sum(qfpairs_rf, [])"
      ]
    },
    {
      "cell_type": "code",
      "execution_count": null,
      "id": "7efca3f9",
      "metadata": {
        "id": "7efca3f9"
      },
      "outputs": [],
      "source": [
        "qftotal_pipeline = r16dftotal.loc[participants_pipeline]\n",
        "qftotal_rf = r16dftotal.loc[participants_rf]"
      ]
    },
    {
      "cell_type": "code",
      "execution_count": null,
      "id": "550e813f",
      "metadata": {
        "id": "550e813f"
      },
      "outputs": [],
      "source": [
        "qftotal_pipeline = qftotal_pipeline.drop('away', axis =1)\n",
        "qftotal_rf = qftotal_rf.drop('away', axis =1)"
      ]
    },
    {
      "cell_type": "code",
      "execution_count": null,
      "id": "00069955",
      "metadata": {
        "id": "00069955"
      },
      "outputs": [],
      "source": [
        "even = np.arange(0,8,2)\n",
        "odd = np.arange(1,8,2)"
      ]
    },
    {
      "cell_type": "code",
      "execution_count": null,
      "id": "d6ec6d71",
      "metadata": {
        "id": "d6ec6d71"
      },
      "outputs": [],
      "source": [
        "qfhome_pipeline = qftotal_pipeline.iloc[even]\n",
        "qfhome_rf = qftotal_rf.iloc[even]\n",
        "\n",
        "qfaway_pipeline = qftotal_pipeline.iloc[odd]\n",
        "qfaway_rf = qftotal_rf.iloc[odd]"
      ]
    },
    {
      "cell_type": "code",
      "execution_count": null,
      "id": "1e69a0cd",
      "metadata": {
        "id": "1e69a0cd"
      },
      "outputs": [],
      "source": [
        "def run_qf_results(qftotal, qfhome, qfaway): \n",
        "    qfresults = pd.DataFrame(([]), columns = ['home', 'away', 'pipeline home prob', 'rf home outcome', 'advances_pipeline', 'advances_rf'])\n",
        "    homelist = []\n",
        "    awaylist = []\n",
        "    pipelinelist = []\n",
        "    rflist = []\n",
        "\n",
        "\n",
        "    pairings = []\n",
        "    for i in range(0,4): \n",
        "        pair = (qfhome['home'][i], qfaway['home'][i])\n",
        "        pairings.append(pair)\n",
        "    \n",
        "    for home,away in pairings:\n",
        "        row = pd.DataFrame(np.array([[np.nan, np.nan, np.nan, True]]), columns=X_test.columns)\n",
        "        home_rank = qftotal.loc[home, 'rank']\n",
        "        home_points = qftotal.loc[home, 'total_points']\n",
        "        away_rank = qftotal.loc[away, 'rank']\n",
        "        away_points = qftotal.loc[away, 'total_points']\n",
        "        row['rank_avg'] = (home_rank + away_rank) / 2\n",
        "        row['rank_difference'] = home_rank - away_rank\n",
        "        row['point_diff'] = home_points - away_points\n",
        "    \n",
        "        # logistic / binomial pipeline model\n",
        "        home_win_prob_pipe = model.predict_proba(row)[:,1][0]\n",
        "        away_win_prob_pipe = 1 - home_win_prob_pipe\n",
        "    \n",
        "        # random forest model\n",
        "        rfhome_outcome = randomforestmodel.predict(row)\n",
        "    \n",
        "    \n",
        "        # create data for results table\n",
        "        homelist.append(home)\n",
        "        awaylist.append(away)\n",
        "        pipelinelist.append(home_win_prob_pipe)\n",
        "        rflist.append(rfhome_outcome)\n",
        "        \n",
        "    qfresults['home'] = homelist\n",
        "    qfresults['away'] = awaylist\n",
        "    qfresults['pipeline home prob'] = pipelinelist\n",
        "    qfresults['rf home outcome'] = rflist\n",
        "    \n",
        "    # determine who advances pipeline\n",
        "    advances_pipeline = []\n",
        "    for i in range(0,4):\n",
        "        if qfresults['pipeline home prob'][i] == .5:\n",
        "            advances_pipeline.append('Draw')\n",
        "        if qfresults['pipeline home prob'][i] > .5:\n",
        "            advances_pipeline.append(qfresults['home'][i])\n",
        "        if qfresults['pipeline home prob'][i] < .5: \n",
        "            advances_pipeline.append(qfresults['away'][i])\n",
        "\n",
        "    # determine who advances random forest\n",
        "    advances_rf = []\n",
        "    for i in range(0,4):\n",
        "        if qfresults['rf home outcome'][i] == [True]:\n",
        "            advances_rf.append(qfresults['home'][i])\n",
        "        else: \n",
        "            advances_rf.append(qfresults['away'][i])\n",
        "        \n",
        "    qfresults['advances_pipeline'] = advances_pipeline\n",
        "    qfresults['advances_rf'] = advances_rf\n",
        "    \n",
        "    return qfresults\n",
        "        "
      ]
    },
    {
      "cell_type": "code",
      "execution_count": null,
      "id": "f2d3016c",
      "metadata": {
        "id": "f2d3016c"
      },
      "outputs": [],
      "source": [
        "# results from round of 16 using teams generated through pipeline\n",
        "qf_results_pipeline = run_qf_results(qftotal_pipeline, qfhome_pipeline, qfaway_pipeline)\n",
        "\n",
        "# results from round of 16 using teams generated through rf \n",
        "qf_results_rf = run_qf_results(qftotal_rf, qfhome_rf, qfaway_rf)\n"
      ]
    },
    {
      "cell_type": "code",
      "execution_count": null,
      "id": "f9dcb5b2",
      "metadata": {
        "id": "f9dcb5b2",
        "outputId": "b268d46c-9d26-4708-ea0c-43b7a69eec8e"
      },
      "outputs": [
        {
          "data": {
            "text/html": [
              "<div>\n",
              "<style scoped>\n",
              "    .dataframe tbody tr th:only-of-type {\n",
              "        vertical-align: middle;\n",
              "    }\n",
              "\n",
              "    .dataframe tbody tr th {\n",
              "        vertical-align: top;\n",
              "    }\n",
              "\n",
              "    .dataframe thead th {\n",
              "        text-align: right;\n",
              "    }\n",
              "</style>\n",
              "<table border=\"1\" class=\"dataframe\">\n",
              "  <thead>\n",
              "    <tr style=\"text-align: right;\">\n",
              "      <th></th>\n",
              "      <th>home</th>\n",
              "      <th>away</th>\n",
              "      <th>pipeline home prob</th>\n",
              "      <th>rf home outcome</th>\n",
              "      <th>advances_pipeline</th>\n",
              "      <th>advances_rf</th>\n",
              "    </tr>\n",
              "  </thead>\n",
              "  <tbody>\n",
              "    <tr>\n",
              "      <th>0</th>\n",
              "      <td>Argentina</td>\n",
              "      <td>Netherlands</td>\n",
              "      <td>0.579723</td>\n",
              "      <td>[True]</td>\n",
              "      <td>Argentina</td>\n",
              "      <td>Argentina</td>\n",
              "    </tr>\n",
              "    <tr>\n",
              "      <th>1</th>\n",
              "      <td>England</td>\n",
              "      <td>France</td>\n",
              "      <td>0.473070</td>\n",
              "      <td>[False]</td>\n",
              "      <td>France</td>\n",
              "      <td>France</td>\n",
              "    </tr>\n",
              "    <tr>\n",
              "      <th>2</th>\n",
              "      <td>Croatia</td>\n",
              "      <td>Brazil</td>\n",
              "      <td>0.321081</td>\n",
              "      <td>[True]</td>\n",
              "      <td>Brazil</td>\n",
              "      <td>Croatia</td>\n",
              "    </tr>\n",
              "    <tr>\n",
              "      <th>3</th>\n",
              "      <td>Spain</td>\n",
              "      <td>Portugal</td>\n",
              "      <td>0.541825</td>\n",
              "      <td>[False]</td>\n",
              "      <td>Spain</td>\n",
              "      <td>Portugal</td>\n",
              "    </tr>\n",
              "  </tbody>\n",
              "</table>\n",
              "</div>"
            ],
            "text/plain": [
              "        home         away  pipeline home prob rf home outcome  \\\n",
              "0  Argentina  Netherlands            0.579723          [True]   \n",
              "1    England       France            0.473070         [False]   \n",
              "2    Croatia       Brazil            0.321081          [True]   \n",
              "3      Spain     Portugal            0.541825         [False]   \n",
              "\n",
              "  advances_pipeline advances_rf  \n",
              "0         Argentina   Argentina  \n",
              "1            France      France  \n",
              "2            Brazil     Croatia  \n",
              "3             Spain    Portugal  "
            ]
          },
          "execution_count": 47,
          "metadata": {},
          "output_type": "execute_result"
        }
      ],
      "source": [
        "qf_results_pipeline"
      ]
    },
    {
      "cell_type": "code",
      "execution_count": null,
      "id": "0134b8f9",
      "metadata": {
        "id": "0134b8f9",
        "outputId": "414e9234-a3ad-4856-ca66-ed0042627543"
      },
      "outputs": [
        {
          "data": {
            "text/html": [
              "<div>\n",
              "<style scoped>\n",
              "    .dataframe tbody tr th:only-of-type {\n",
              "        vertical-align: middle;\n",
              "    }\n",
              "\n",
              "    .dataframe tbody tr th {\n",
              "        vertical-align: top;\n",
              "    }\n",
              "\n",
              "    .dataframe thead th {\n",
              "        text-align: right;\n",
              "    }\n",
              "</style>\n",
              "<table border=\"1\" class=\"dataframe\">\n",
              "  <thead>\n",
              "    <tr style=\"text-align: right;\">\n",
              "      <th></th>\n",
              "      <th>home</th>\n",
              "      <th>away</th>\n",
              "      <th>pipeline home prob</th>\n",
              "      <th>rf home outcome</th>\n",
              "      <th>advances_pipeline</th>\n",
              "      <th>advances_rf</th>\n",
              "    </tr>\n",
              "  </thead>\n",
              "  <tbody>\n",
              "    <tr>\n",
              "      <th>0</th>\n",
              "      <td>Argentina</td>\n",
              "      <td>Netherlands</td>\n",
              "      <td>0.579723</td>\n",
              "      <td>[True]</td>\n",
              "      <td>Argentina</td>\n",
              "      <td>Argentina</td>\n",
              "    </tr>\n",
              "    <tr>\n",
              "      <th>1</th>\n",
              "      <td>England</td>\n",
              "      <td>France</td>\n",
              "      <td>0.473070</td>\n",
              "      <td>[False]</td>\n",
              "      <td>France</td>\n",
              "      <td>France</td>\n",
              "    </tr>\n",
              "    <tr>\n",
              "      <th>2</th>\n",
              "      <td>Croatia</td>\n",
              "      <td>Brazil</td>\n",
              "      <td>0.321081</td>\n",
              "      <td>[True]</td>\n",
              "      <td>Brazil</td>\n",
              "      <td>Croatia</td>\n",
              "    </tr>\n",
              "    <tr>\n",
              "      <th>3</th>\n",
              "      <td>Spain</td>\n",
              "      <td>Portugal</td>\n",
              "      <td>0.541825</td>\n",
              "      <td>[False]</td>\n",
              "      <td>Spain</td>\n",
              "      <td>Portugal</td>\n",
              "    </tr>\n",
              "  </tbody>\n",
              "</table>\n",
              "</div>"
            ],
            "text/plain": [
              "        home         away  pipeline home prob rf home outcome  \\\n",
              "0  Argentina  Netherlands            0.579723          [True]   \n",
              "1    England       France            0.473070         [False]   \n",
              "2    Croatia       Brazil            0.321081          [True]   \n",
              "3      Spain     Portugal            0.541825         [False]   \n",
              "\n",
              "  advances_pipeline advances_rf  \n",
              "0         Argentina   Argentina  \n",
              "1            France      France  \n",
              "2            Brazil     Croatia  \n",
              "3             Spain    Portugal  "
            ]
          },
          "execution_count": 48,
          "metadata": {},
          "output_type": "execute_result"
        }
      ],
      "source": [
        "qf_results_rf"
      ]
    },
    {
      "cell_type": "markdown",
      "id": "93f974a2",
      "metadata": {
        "id": "93f974a2"
      },
      "source": [
        "# Semifinal Rounds"
      ]
    },
    {
      "cell_type": "markdown",
      "id": "93153641",
      "metadata": {
        "id": "93153641"
      },
      "source": [
        "#### Results from Quarterfinal Simulation Using Pipeline Model"
      ]
    },
    {
      "cell_type": "code",
      "execution_count": null,
      "id": "3e8ce30d",
      "metadata": {
        "id": "3e8ce30d"
      },
      "outputs": [],
      "source": [
        "sfpairs_pipe_pipe = [[qf_results_pipeline['advances_pipeline'][0], \n",
        "                      qf_results_pipeline['advances_pipeline'][1]], \n",
        "                     [qf_results_pipeline['advances_pipeline'][2], \n",
        "                      qf_results_pipeline['advances_pipeline'][3]]]\n",
        "\n",
        "sfpairs_pipe_rf = [[qf_results_pipeline['advances_rf'][0], \n",
        "                      qf_results_pipeline['advances_rf'][1]], \n",
        "                     [qf_results_pipeline['advances_rf'][2], \n",
        "                      qf_results_pipeline['advances_rf'][3]]]"
      ]
    },
    {
      "cell_type": "code",
      "execution_count": null,
      "id": "22e092a4",
      "metadata": {
        "id": "22e092a4"
      },
      "outputs": [],
      "source": [
        "participants_pipe_pipe = sum(sfpairs_pipe_pipe, [])\n",
        "participants_pipe_rf = sum(sfpairs_pipe_rf, [])"
      ]
    },
    {
      "cell_type": "code",
      "execution_count": null,
      "id": "219d73fe",
      "metadata": {
        "id": "219d73fe"
      },
      "outputs": [],
      "source": [
        "sftotal_pipe_pipe = qftotal_pipeline.loc[participants_pipe_pipe]\n",
        "sftotal_pipe_rf = qftotal_pipeline.loc[participants_pipe_rf]"
      ]
    },
    {
      "cell_type": "code",
      "execution_count": null,
      "id": "4dc09e8b",
      "metadata": {
        "id": "4dc09e8b"
      },
      "outputs": [],
      "source": [
        "even = np.arange(0,4,2)\n",
        "odd = np.arange(1,4,2)"
      ]
    },
    {
      "cell_type": "code",
      "execution_count": null,
      "id": "b42de907",
      "metadata": {
        "id": "b42de907"
      },
      "outputs": [],
      "source": [
        "sfhome_pipe_pipe = sftotal_pipe_pipe.iloc[even]\n",
        "sfhome_pipe_rf = sftotal_pipe_rf.iloc[even]\n",
        "\n",
        "sfaway_pipe_pipe = sftotal_pipe_pipe.iloc[odd]\n",
        "sfaway_pipe_rf = sftotal_pipe_rf.iloc[odd]"
      ]
    },
    {
      "cell_type": "markdown",
      "id": "b48e6c68",
      "metadata": {
        "id": "b48e6c68"
      },
      "source": [
        "#### Results from Quarterfinal Simulation Using Random Forest Model"
      ]
    },
    {
      "cell_type": "code",
      "execution_count": null,
      "id": "9cef1e92",
      "metadata": {
        "id": "9cef1e92"
      },
      "outputs": [],
      "source": [
        "sfpairs_rf_pipe = [[qf_results_rf['advances_pipeline'][0], \n",
        "                      qf_results_rf['advances_pipeline'][1]], \n",
        "                     [qf_results_rf['advances_pipeline'][2], \n",
        "                      qf_results_rf['advances_pipeline'][3]]]\n",
        "\n",
        "sfpairs_rf_rf = [[qf_results_rf['advances_rf'][0], \n",
        "                      qf_results_rf['advances_rf'][1]], \n",
        "                     [qf_results_rf['advances_rf'][2], \n",
        "                      qf_results_rf['advances_rf'][3]]]"
      ]
    },
    {
      "cell_type": "code",
      "execution_count": null,
      "id": "28aa8ba5",
      "metadata": {
        "id": "28aa8ba5"
      },
      "outputs": [],
      "source": [
        "participants_rf_pipe = sum(sfpairs_rf_pipe, [])\n",
        "participants_rf_rf = sum(sfpairs_rf_pipe, [])"
      ]
    },
    {
      "cell_type": "code",
      "execution_count": null,
      "id": "2a2e4855",
      "metadata": {
        "id": "2a2e4855"
      },
      "outputs": [],
      "source": [
        "sftotal_rf_pipe = qftotal_rf.loc[participants_rf_pipe]\n",
        "sftotal_rf_rf = qftotal_rf.loc[participants_rf_rf]"
      ]
    },
    {
      "cell_type": "code",
      "execution_count": null,
      "id": "8d04194f",
      "metadata": {
        "id": "8d04194f"
      },
      "outputs": [],
      "source": [
        "sfhome_rf_pipe = sftotal_rf_pipe.iloc[even]\n",
        "sfhome_rf_rf = sftotal_rf_rf.iloc[even]\n",
        "\n",
        "sfaway_rf_pipe = sftotal_rf_pipe.iloc[odd]\n",
        "sfaway_rf_rf = sftotal_rf_rf.iloc[odd]"
      ]
    },
    {
      "cell_type": "markdown",
      "id": "774f5cd8",
      "metadata": {
        "id": "774f5cd8"
      },
      "source": [
        "#### Defining the Semifinal Function"
      ]
    },
    {
      "cell_type": "code",
      "execution_count": null,
      "id": "39c429e5",
      "metadata": {
        "id": "39c429e5"
      },
      "outputs": [],
      "source": [
        "def run_sf_results(sftotal, sfhome, sfaway): \n",
        "    sfresults = pd.DataFrame(([]), columns = ['home', 'away', 'pipeline home prob', 'rf home outcome', 'advances_pipeline', 'advances_rf'])\n",
        "    homelist = []\n",
        "    awaylist = []\n",
        "    pipelinelist = []\n",
        "    rflist = []\n",
        "\n",
        "\n",
        "    pairings = []\n",
        "    for i in range(0,2): \n",
        "        pair = (sfhome['home'][i], sfaway['home'][i])\n",
        "        pairings.append(pair)\n",
        "    \n",
        "    for home,away in pairings:\n",
        "        row = pd.DataFrame(np.array([[np.nan, np.nan, np.nan, True]]), columns=X_test.columns)\n",
        "        home_rank = sftotal.loc[home, 'rank']\n",
        "        home_points = sftotal.loc[home, 'total_points']\n",
        "        away_rank = sftotal.loc[away, 'rank']\n",
        "        away_points = sftotal.loc[away, 'total_points']\n",
        "        row['rank_avg'] = (home_rank + away_rank) / 2\n",
        "        row['rank_difference'] = home_rank - away_rank\n",
        "        row['point_diff'] = home_points - away_points\n",
        "    \n",
        "        # logistic / binomial pipeline model\n",
        "        home_win_prob_pipe = model.predict_proba(row)[:,1][0]\n",
        "        away_win_prob_pipe = 1 - home_win_prob_pipe\n",
        "    \n",
        "        # random forest model\n",
        "        rfhome_outcome = randomforestmodel.predict(row)\n",
        "    \n",
        "    \n",
        "        # create data for results table\n",
        "        homelist.append(home)\n",
        "        awaylist.append(away)\n",
        "        pipelinelist.append(home_win_prob_pipe)\n",
        "        rflist.append(rfhome_outcome)\n",
        "        \n",
        "    sfresults['home'] = homelist\n",
        "    sfresults['away'] = awaylist\n",
        "    sfresults['pipeline home prob'] = pipelinelist\n",
        "    sfresults['rf home outcome'] = rflist\n",
        "        \n",
        "    \n",
        "    \n",
        "    # determine who advances pipeline\n",
        "    advances_pipeline = []\n",
        "    for i in range(0,2):\n",
        "        if sfresults['pipeline home prob'][i] == .5:\n",
        "            advances_pipeline.append('Draw')\n",
        "        if sfresults['pipeline home prob'][i] > .5:\n",
        "            advances_pipeline.append(sfresults['home'][i])\n",
        "        if sfresults['pipeline home prob'][i] < .5: \n",
        "            advances_pipeline.append(sfresults['away'][i])\n",
        "\n",
        "    # determine who advances random forest\n",
        "    advances_rf = []\n",
        "    for i in range(0,2):\n",
        "        if sfresults['rf home outcome'][i] == [True]:\n",
        "            advances_rf.append(sfresults['home'][i])\n",
        "        else: \n",
        "            advances_rf.append(sfresults['away'][i])\n",
        "        \n",
        "    sfresults['advances_pipeline'] = advances_pipeline\n",
        "    sfresults['advances_rf'] = advances_rf\n",
        "    \n",
        "    return sfresults\n",
        "        "
      ]
    },
    {
      "cell_type": "code",
      "execution_count": null,
      "id": "0947d257",
      "metadata": {
        "id": "0947d257"
      },
      "outputs": [],
      "source": [
        "sf_results_pipe_pipe = run_sf_results(sftotal_pipe_pipe, sfhome_pipe_pipe, sfaway_pipe_pipe)\n",
        "sf_results_pipe_rf = run_sf_results(sftotal_pipe_rf, sfhome_pipe_rf, sfaway_pipe_rf)\n",
        "sf_results_rf_pipe = run_sf_results(sftotal_rf_pipe, sfhome_rf_pipe, sfaway_rf_pipe)\n",
        "sf_results_rf_rf = run_sf_results(sftotal_rf_rf, sfhome_rf_rf, sfaway_rf_rf)"
      ]
    },
    {
      "cell_type": "code",
      "execution_count": null,
      "id": "a0500f13",
      "metadata": {
        "id": "a0500f13",
        "outputId": "7cb0500c-99b2-4a3e-dc42-3957b2f94837"
      },
      "outputs": [
        {
          "data": {
            "text/html": [
              "<div>\n",
              "<style scoped>\n",
              "    .dataframe tbody tr th:only-of-type {\n",
              "        vertical-align: middle;\n",
              "    }\n",
              "\n",
              "    .dataframe tbody tr th {\n",
              "        vertical-align: top;\n",
              "    }\n",
              "\n",
              "    .dataframe thead th {\n",
              "        text-align: right;\n",
              "    }\n",
              "</style>\n",
              "<table border=\"1\" class=\"dataframe\">\n",
              "  <thead>\n",
              "    <tr style=\"text-align: right;\">\n",
              "      <th></th>\n",
              "      <th>home</th>\n",
              "      <th>away</th>\n",
              "      <th>pipeline home prob</th>\n",
              "      <th>rf home outcome</th>\n",
              "      <th>advances_pipeline</th>\n",
              "      <th>advances_rf</th>\n",
              "    </tr>\n",
              "  </thead>\n",
              "  <tbody>\n",
              "    <tr>\n",
              "      <th>0</th>\n",
              "      <td>Argentina</td>\n",
              "      <td>France</td>\n",
              "      <td>0.516327</td>\n",
              "      <td>[True]</td>\n",
              "      <td>Argentina</td>\n",
              "      <td>Argentina</td>\n",
              "    </tr>\n",
              "    <tr>\n",
              "      <th>1</th>\n",
              "      <td>Brazil</td>\n",
              "      <td>Spain</td>\n",
              "      <td>0.621241</td>\n",
              "      <td>[True]</td>\n",
              "      <td>Brazil</td>\n",
              "      <td>Brazil</td>\n",
              "    </tr>\n",
              "  </tbody>\n",
              "</table>\n",
              "</div>"
            ],
            "text/plain": [
              "        home    away  pipeline home prob rf home outcome advances_pipeline  \\\n",
              "0  Argentina  France            0.516327          [True]         Argentina   \n",
              "1     Brazil   Spain            0.621241          [True]            Brazil   \n",
              "\n",
              "  advances_rf  \n",
              "0   Argentina  \n",
              "1      Brazil  "
            ]
          },
          "execution_count": 60,
          "metadata": {},
          "output_type": "execute_result"
        }
      ],
      "source": [
        "sf_results_pipe_pipe"
      ]
    },
    {
      "cell_type": "code",
      "execution_count": null,
      "id": "e6407051",
      "metadata": {
        "id": "e6407051",
        "outputId": "d50ba9e4-e147-4657-88d6-2e408563669f"
      },
      "outputs": [
        {
          "data": {
            "text/html": [
              "<div>\n",
              "<style scoped>\n",
              "    .dataframe tbody tr th:only-of-type {\n",
              "        vertical-align: middle;\n",
              "    }\n",
              "\n",
              "    .dataframe tbody tr th {\n",
              "        vertical-align: top;\n",
              "    }\n",
              "\n",
              "    .dataframe thead th {\n",
              "        text-align: right;\n",
              "    }\n",
              "</style>\n",
              "<table border=\"1\" class=\"dataframe\">\n",
              "  <thead>\n",
              "    <tr style=\"text-align: right;\">\n",
              "      <th></th>\n",
              "      <th>home</th>\n",
              "      <th>away</th>\n",
              "      <th>pipeline home prob</th>\n",
              "      <th>rf home outcome</th>\n",
              "      <th>advances_pipeline</th>\n",
              "      <th>advances_rf</th>\n",
              "    </tr>\n",
              "  </thead>\n",
              "  <tbody>\n",
              "    <tr>\n",
              "      <th>0</th>\n",
              "      <td>Argentina</td>\n",
              "      <td>France</td>\n",
              "      <td>0.516327</td>\n",
              "      <td>[True]</td>\n",
              "      <td>Argentina</td>\n",
              "      <td>Argentina</td>\n",
              "    </tr>\n",
              "    <tr>\n",
              "      <th>1</th>\n",
              "      <td>Croatia</td>\n",
              "      <td>Portugal</td>\n",
              "      <td>0.476934</td>\n",
              "      <td>[True]</td>\n",
              "      <td>Portugal</td>\n",
              "      <td>Croatia</td>\n",
              "    </tr>\n",
              "  </tbody>\n",
              "</table>\n",
              "</div>"
            ],
            "text/plain": [
              "        home      away  pipeline home prob rf home outcome advances_pipeline  \\\n",
              "0  Argentina    France            0.516327          [True]         Argentina   \n",
              "1    Croatia  Portugal            0.476934          [True]          Portugal   \n",
              "\n",
              "  advances_rf  \n",
              "0   Argentina  \n",
              "1     Croatia  "
            ]
          },
          "execution_count": 61,
          "metadata": {},
          "output_type": "execute_result"
        }
      ],
      "source": [
        "sf_results_pipe_rf"
      ]
    },
    {
      "cell_type": "code",
      "execution_count": null,
      "id": "9d713b98",
      "metadata": {
        "id": "9d713b98",
        "outputId": "7314f74e-1e3a-437e-9ffb-41b32f0369cf"
      },
      "outputs": [
        {
          "data": {
            "text/html": [
              "<div>\n",
              "<style scoped>\n",
              "    .dataframe tbody tr th:only-of-type {\n",
              "        vertical-align: middle;\n",
              "    }\n",
              "\n",
              "    .dataframe tbody tr th {\n",
              "        vertical-align: top;\n",
              "    }\n",
              "\n",
              "    .dataframe thead th {\n",
              "        text-align: right;\n",
              "    }\n",
              "</style>\n",
              "<table border=\"1\" class=\"dataframe\">\n",
              "  <thead>\n",
              "    <tr style=\"text-align: right;\">\n",
              "      <th></th>\n",
              "      <th>home</th>\n",
              "      <th>away</th>\n",
              "      <th>pipeline home prob</th>\n",
              "      <th>rf home outcome</th>\n",
              "      <th>advances_pipeline</th>\n",
              "      <th>advances_rf</th>\n",
              "    </tr>\n",
              "  </thead>\n",
              "  <tbody>\n",
              "    <tr>\n",
              "      <th>0</th>\n",
              "      <td>Argentina</td>\n",
              "      <td>France</td>\n",
              "      <td>0.516327</td>\n",
              "      <td>[True]</td>\n",
              "      <td>Argentina</td>\n",
              "      <td>Argentina</td>\n",
              "    </tr>\n",
              "    <tr>\n",
              "      <th>1</th>\n",
              "      <td>Brazil</td>\n",
              "      <td>Spain</td>\n",
              "      <td>0.621241</td>\n",
              "      <td>[True]</td>\n",
              "      <td>Brazil</td>\n",
              "      <td>Brazil</td>\n",
              "    </tr>\n",
              "  </tbody>\n",
              "</table>\n",
              "</div>"
            ],
            "text/plain": [
              "        home    away  pipeline home prob rf home outcome advances_pipeline  \\\n",
              "0  Argentina  France            0.516327          [True]         Argentina   \n",
              "1     Brazil   Spain            0.621241          [True]            Brazil   \n",
              "\n",
              "  advances_rf  \n",
              "0   Argentina  \n",
              "1      Brazil  "
            ]
          },
          "execution_count": 62,
          "metadata": {},
          "output_type": "execute_result"
        }
      ],
      "source": [
        "sf_results_rf_pipe"
      ]
    },
    {
      "cell_type": "code",
      "execution_count": null,
      "id": "1e7dc6a3",
      "metadata": {
        "id": "1e7dc6a3",
        "outputId": "4798089b-7eda-4655-8c7e-38777c856175"
      },
      "outputs": [
        {
          "data": {
            "text/html": [
              "<div>\n",
              "<style scoped>\n",
              "    .dataframe tbody tr th:only-of-type {\n",
              "        vertical-align: middle;\n",
              "    }\n",
              "\n",
              "    .dataframe tbody tr th {\n",
              "        vertical-align: top;\n",
              "    }\n",
              "\n",
              "    .dataframe thead th {\n",
              "        text-align: right;\n",
              "    }\n",
              "</style>\n",
              "<table border=\"1\" class=\"dataframe\">\n",
              "  <thead>\n",
              "    <tr style=\"text-align: right;\">\n",
              "      <th></th>\n",
              "      <th>home</th>\n",
              "      <th>away</th>\n",
              "      <th>pipeline home prob</th>\n",
              "      <th>rf home outcome</th>\n",
              "      <th>advances_pipeline</th>\n",
              "      <th>advances_rf</th>\n",
              "    </tr>\n",
              "  </thead>\n",
              "  <tbody>\n",
              "    <tr>\n",
              "      <th>0</th>\n",
              "      <td>Argentina</td>\n",
              "      <td>France</td>\n",
              "      <td>0.516327</td>\n",
              "      <td>[True]</td>\n",
              "      <td>Argentina</td>\n",
              "      <td>Argentina</td>\n",
              "    </tr>\n",
              "    <tr>\n",
              "      <th>1</th>\n",
              "      <td>Brazil</td>\n",
              "      <td>Spain</td>\n",
              "      <td>0.621241</td>\n",
              "      <td>[True]</td>\n",
              "      <td>Brazil</td>\n",
              "      <td>Brazil</td>\n",
              "    </tr>\n",
              "  </tbody>\n",
              "</table>\n",
              "</div>"
            ],
            "text/plain": [
              "        home    away  pipeline home prob rf home outcome advances_pipeline  \\\n",
              "0  Argentina  France            0.516327          [True]         Argentina   \n",
              "1     Brazil   Spain            0.621241          [True]            Brazil   \n",
              "\n",
              "  advances_rf  \n",
              "0   Argentina  \n",
              "1      Brazil  "
            ]
          },
          "execution_count": 63,
          "metadata": {},
          "output_type": "execute_result"
        }
      ],
      "source": [
        "sf_results_rf_rf "
      ]
    },
    {
      "cell_type": "markdown",
      "id": "10479432",
      "metadata": {
        "id": "10479432"
      },
      "source": [
        "# World Cup Final"
      ]
    },
    {
      "cell_type": "markdown",
      "id": "c28ba617",
      "metadata": {
        "id": "c28ba617"
      },
      "source": [
        "##### Pipeline x Pipeline Model "
      ]
    },
    {
      "cell_type": "code",
      "execution_count": null,
      "id": "44dc89d0",
      "metadata": {
        "id": "44dc89d0"
      },
      "outputs": [],
      "source": [
        "finalpair_pipex3 = [sf_results_pipe_pipe['advances_pipeline'][0], \n",
        "                      sf_results_pipe_pipe['advances_pipeline'][1]]\n",
        "finalpair_pipex2_rf = [sf_results_pipe_pipe['advances_rf'][0], \n",
        "                      sf_results_pipe_pipe['advances_rf'][1]]"
      ]
    },
    {
      "cell_type": "code",
      "execution_count": null,
      "id": "4d99c215",
      "metadata": {
        "id": "4d99c215"
      },
      "outputs": [],
      "source": [
        "finaltotal_pipex3 = sftotal_pipe_pipe.loc[finalpair_pipex3]\n",
        "finalhome_pipex3 = finaltotal_pipex3[:1]\n",
        "finalaway_pipex3 = finaltotal_pipex3[1:]\n",
        "\n",
        "\n",
        "finaltotal_pipex2_rf = sftotal_pipe_pipe.loc[finalpair_pipex3]\n",
        "finalhome_pipex2_rf = finaltotal_pipex2_rf[:1]\n",
        "finalaway_pipex2_rf = finaltotal_pipex2_rf[1:]"
      ]
    },
    {
      "cell_type": "markdown",
      "id": "89168d8e",
      "metadata": {
        "id": "89168d8e"
      },
      "source": [
        "##### Pipeline x Random Forest Model "
      ]
    },
    {
      "cell_type": "code",
      "execution_count": null,
      "id": "a53bd97c",
      "metadata": {
        "id": "a53bd97c"
      },
      "outputs": [],
      "source": [
        "finalpair_pipe_rf_pipe = [sf_results_pipe_rf['advances_pipeline'][0], \n",
        "                      sf_results_pipe_rf['advances_pipeline'][1]]\n",
        "finalpair_pipe_rfx2 = [sf_results_pipe_rf['advances_rf'][0], \n",
        "                      sf_results_pipe_rf['advances_rf'][1]]"
      ]
    },
    {
      "cell_type": "code",
      "execution_count": null,
      "id": "5c6a8ddb",
      "metadata": {
        "id": "5c6a8ddb"
      },
      "outputs": [],
      "source": [
        "finaltotal_pipe_rf_pipe = sftotal_pipe_rf.loc[finalpair_pipe_rf_pipe]\n",
        "finalhome_pipe_rf_pipe = finaltotal_pipe_rf_pipe[:1]\n",
        "finalaway_pipe_rf_pipe = finaltotal_pipe_rf_pipe[1:]\n",
        "\n",
        "\n",
        "finaltotal_pipe_rfx2 = sftotal_pipe_rf.loc[finalpair_pipe_rfx2]\n",
        "finalhome_pipe_rfx2 = finaltotal_pipe_rfx2[:1]\n",
        "finalaway_pipe_rfx2 = finaltotal_pipe_rfx2[1:]"
      ]
    },
    {
      "cell_type": "markdown",
      "id": "245669bd",
      "metadata": {
        "id": "245669bd"
      },
      "source": [
        "##### Random Forest x Pipeline Model"
      ]
    },
    {
      "cell_type": "code",
      "execution_count": null,
      "id": "4e93d60e",
      "metadata": {
        "id": "4e93d60e"
      },
      "outputs": [],
      "source": [
        "finalpair_rf_pipex2 = [sf_results_rf_pipe['advances_pipeline'][0], \n",
        "                      sf_results_rf_pipe['advances_pipeline'][1]]\n",
        "finalpair_rf_pipe_rf = [sf_results_rf_pipe['advances_rf'][0], \n",
        "                      sf_results_rf_pipe['advances_rf'][1]]"
      ]
    },
    {
      "cell_type": "code",
      "execution_count": null,
      "id": "51a677ac",
      "metadata": {
        "id": "51a677ac"
      },
      "outputs": [],
      "source": [
        "finaltotal_rf_pipex2 = sftotal_rf_pipe.loc[finalpair_rf_pipex2]\n",
        "finalhome_rf_pipex2 = finaltotal_rf_pipex2[:1]\n",
        "finalaway_rf_pipex2 = finaltotal_rf_pipex2[1:]\n",
        "\n",
        "\n",
        "finaltotal_rf_pipe_rf = sftotal_rf_pipe.loc[finalpair_rf_pipe_rf]\n",
        "finalhome_rf_pipe_rf = finaltotal_rf_pipe_rf[:1]\n",
        "finalaway_rf_pipe_rf = finaltotal_rf_pipe_rf[1:]"
      ]
    },
    {
      "cell_type": "markdown",
      "id": "292e6715",
      "metadata": {
        "id": "292e6715"
      },
      "source": [
        "##### Random Forest x Random Forest Model"
      ]
    },
    {
      "cell_type": "code",
      "execution_count": null,
      "id": "0c79de7f",
      "metadata": {
        "id": "0c79de7f"
      },
      "outputs": [],
      "source": [
        "finalpair_rfx2_pipe = [sf_results_rf_rf['advances_pipeline'][0], \n",
        "                      sf_results_rf_rf['advances_pipeline'][1]]\n",
        "finalpair_rfx3 = [sf_results_rf_rf['advances_rf'][0], \n",
        "                      sf_results_rf_rf['advances_rf'][1]]"
      ]
    },
    {
      "cell_type": "code",
      "execution_count": null,
      "id": "4a2718f2",
      "metadata": {
        "id": "4a2718f2"
      },
      "outputs": [],
      "source": [
        "finaltotal_rfx2_pipe = sftotal_rf_rf.loc[finalpair_rfx2_pipe]\n",
        "finalhome_rfx2_pipe = finaltotal_rfx2_pipe[:1]\n",
        "finalaway_rfx2_pipe = finaltotal_rfx2_pipe[1:]\n",
        "\n",
        "finaltotal_rfx3 = sftotal_rf_rf.loc[finalpair_rfx3]\n",
        "finalhome_rfx3 = finaltotal_rfx3[:1]\n",
        "finalaway_rfx3 = finaltotal_rfx3[1:]"
      ]
    },
    {
      "cell_type": "markdown",
      "id": "53c52ac6",
      "metadata": {
        "id": "53c52ac6"
      },
      "source": [
        "#### Defining the Final Function"
      ]
    },
    {
      "cell_type": "code",
      "execution_count": null,
      "id": "e6d261eb",
      "metadata": {
        "id": "e6d261eb"
      },
      "outputs": [],
      "source": [
        "def run_final_results(finaltotal, finalhome, finalaway): \n",
        "    finalresults = pd.DataFrame(([]), columns = ['home', 'away', 'pipeline home prob', 'rf home outcome', 'winner_pipeline', 'winner_rf'])\n",
        "    homelist = []\n",
        "    awaylist = []\n",
        "    pipelinelist = []\n",
        "    rflist = []\n",
        "\n",
        "    home = finalhome['home'][0]\n",
        "    away = finalaway['home'][0]\n",
        "    pairing = [home, away]\n",
        "        \n",
        "    #for home,away in pairing:\n",
        "    row = pd.DataFrame(np.array([[np.nan, np.nan, np.nan, True]]), columns=X_test.columns)\n",
        "    home_rank = finaltotal.loc[home, 'rank']\n",
        "    home_points = finaltotal.loc[home, 'total_points']\n",
        "    away_rank = finaltotal.loc[away, 'rank']\n",
        "    away_points = finaltotal.loc[away, 'total_points']\n",
        "    row['rank_avg'] = (home_rank + away_rank) / 2\n",
        "    row['rank_difference'] = home_rank - away_rank\n",
        "    row['point_diff'] = home_points - away_points\n",
        "    \n",
        "    # logistic / binomial pipeline model\n",
        "    home_win_prob_pipe = model.predict_proba(row)[:,1][0]\n",
        "    away_win_prob_pipe = 1 - home_win_prob_pipe\n",
        "    \n",
        "    # random forest model\n",
        "    rfhome_outcome = randomforestmodel.predict(row)  \n",
        "\n",
        "    # create data for results table\n",
        "    homelist.append(home)\n",
        "    awaylist.append(away)\n",
        "    pipelinelist.append(home_win_prob_pipe)\n",
        "    rflist.append(rfhome_outcome)\n",
        "        \n",
        "    finalresults['home'] = homelist\n",
        "    finalresults['away'] = awaylist\n",
        "    finalresults['pipeline home prob'] = pipelinelist\n",
        "    finalresults['rf home outcome'] = rflist\n",
        "    \n",
        "    # determine who advances pipeline\n",
        "    advances_pipeline = []\n",
        "    if finalresults['pipeline home prob'][0] == .5:\n",
        "        advances_pipeline.append('Draw')\n",
        "    if finalresults['pipeline home prob'][0] > .5:\n",
        "        advances_pipeline.append(finalresults['home'][0])\n",
        "    if finalresults['pipeline home prob'][0] < .5: \n",
        "        advances_pipeline.append(finalresults['away'][0])\n",
        "\n",
        "    # determine who advances random forest\n",
        "    advances_rf = []\n",
        "    if finalresults['rf home outcome'][0] == [True]:\n",
        "        advances_rf.append(finalresults['home'][0])\n",
        "    else: \n",
        "        advances_rf.append(finalresults['away'][0])\n",
        "        \n",
        "    finalresults['winner_pipeline'] = advances_pipeline\n",
        "    finalresults['winner_rf'] = advances_rf\n",
        "    \n",
        "    return finalresults\n",
        "        "
      ]
    },
    {
      "cell_type": "markdown",
      "id": "bd68af07",
      "metadata": {
        "id": "bd68af07"
      },
      "source": [
        "# World Cup Winner"
      ]
    },
    {
      "cell_type": "markdown",
      "id": "b09fe9d3",
      "metadata": {
        "id": "b09fe9d3"
      },
      "source": [
        "##### Pipeline x Pipeline x Pipeline"
      ]
    },
    {
      "cell_type": "code",
      "execution_count": null,
      "id": "4dbefce1",
      "metadata": {
        "id": "4dbefce1"
      },
      "outputs": [],
      "source": [
        "finalresults_pipex3 = run_final_results(finaltotal_pipex3, \n",
        "                                        finalhome_pipex3, \n",
        "                                        finalaway_pipex3)"
      ]
    },
    {
      "cell_type": "markdown",
      "id": "63a12c40",
      "metadata": {
        "id": "63a12c40"
      },
      "source": [
        "##### Pipeline x Pipeline x Random Forest "
      ]
    },
    {
      "cell_type": "code",
      "execution_count": null,
      "id": "ae7a6605",
      "metadata": {
        "id": "ae7a6605"
      },
      "outputs": [],
      "source": [
        "finalresults_pipex2_rf = run_final_results(finaltotal_pipex2_rf, \n",
        "                                           finalhome_pipex2_rf, \n",
        "                                           finalaway_pipex2_rf)"
      ]
    },
    {
      "cell_type": "markdown",
      "id": "715480ac",
      "metadata": {
        "id": "715480ac"
      },
      "source": [
        "##### Pipeline x Random Forest x Pipeline"
      ]
    },
    {
      "cell_type": "code",
      "execution_count": null,
      "id": "cdb4368b",
      "metadata": {
        "id": "cdb4368b"
      },
      "outputs": [],
      "source": [
        "finalresults_pipe_rf_pipe = run_final_results(finaltotal_pipe_rf_pipe, \n",
        "                                           finalhome_pipe_rf_pipe, \n",
        "                                           finalaway_pipe_rf_pipe)"
      ]
    },
    {
      "cell_type": "markdown",
      "id": "181dbb6b",
      "metadata": {
        "id": "181dbb6b"
      },
      "source": [
        "##### Pipeline x Random Forest x Random Forest"
      ]
    },
    {
      "cell_type": "code",
      "execution_count": null,
      "id": "9362734a",
      "metadata": {
        "id": "9362734a"
      },
      "outputs": [],
      "source": [
        "finalresults_pipe_rfx2 = run_final_results(finaltotal_pipe_rfx2, \n",
        "                                           finalhome_pipe_rfx2, \n",
        "                                           finalaway_pipe_rfx2)"
      ]
    },
    {
      "cell_type": "markdown",
      "id": "79d1e561",
      "metadata": {
        "id": "79d1e561"
      },
      "source": [
        "##### Random Forest x Pipeline x Pipeline"
      ]
    },
    {
      "cell_type": "code",
      "execution_count": null,
      "id": "256c1337",
      "metadata": {
        "id": "256c1337"
      },
      "outputs": [],
      "source": [
        "finalresults_rf_pipex2 = run_final_results(finaltotal_rf_pipex2, \n",
        "                                           finalhome_rf_pipex2, \n",
        "                                           finalaway_rf_pipex2)"
      ]
    },
    {
      "cell_type": "markdown",
      "id": "ca92f801",
      "metadata": {
        "id": "ca92f801"
      },
      "source": [
        "##### Random Forest x Pipeline x Random Forest "
      ]
    },
    {
      "cell_type": "code",
      "execution_count": null,
      "id": "6d5b6669",
      "metadata": {
        "id": "6d5b6669"
      },
      "outputs": [],
      "source": [
        "finalresults_rf_pipe_rf = run_final_results(finaltotal_rf_pipe_rf, \n",
        "                                           finalhome_rf_pipe_rf, \n",
        "                                           finalaway_rf_pipe_rf)"
      ]
    },
    {
      "cell_type": "markdown",
      "id": "b6c0b632",
      "metadata": {
        "id": "b6c0b632"
      },
      "source": [
        "#####  Random Forest x Random Forest x Pipeline"
      ]
    },
    {
      "cell_type": "code",
      "execution_count": null,
      "id": "03de7923",
      "metadata": {
        "id": "03de7923"
      },
      "outputs": [],
      "source": [
        "finalresults_rfx2_pipe = run_final_results(finaltotal_rfx2_pipe, \n",
        "                                           finalhome_rfx2_pipe, \n",
        "                                           finalaway_rfx2_pipe)"
      ]
    },
    {
      "cell_type": "markdown",
      "id": "fe0105d0",
      "metadata": {
        "id": "fe0105d0"
      },
      "source": [
        "##### Random Forest x Random Forest x Random Forest "
      ]
    },
    {
      "cell_type": "code",
      "execution_count": null,
      "id": "92d90577",
      "metadata": {
        "id": "92d90577"
      },
      "outputs": [],
      "source": [
        "finalresults_rfx3 = run_final_results(finaltotal_rfx3, \n",
        "                                           finalhome_rfx3, \n",
        "                                           finalaway_rfx3)"
      ]
    },
    {
      "cell_type": "markdown",
      "id": "d6bb3ca5",
      "metadata": {
        "id": "d6bb3ca5"
      },
      "source": [
        "# World Cup Winner Data Frame"
      ]
    },
    {
      "cell_type": "code",
      "execution_count": null,
      "id": "71e2b5c2",
      "metadata": {
        "id": "71e2b5c2"
      },
      "outputs": [],
      "source": [
        "index = ['pipex3', 'pipex2_rf', 'pipe_rf_pipe', 'pipe_rfx2', 'rf_pipex2', \n",
        "         'rf_pipe_rf','rfx2_pipe', 'rfx3']"
      ]
    },
    {
      "cell_type": "code",
      "execution_count": null,
      "id": "2892d10f",
      "metadata": {
        "id": "2892d10f"
      },
      "outputs": [],
      "source": [
        "finaldf = pd.concat([finalresults_pipex3, finalresults_pipex2_rf, \n",
        "                    finalresults_pipe_rf_pipe, finalresults_pipe_rfx2,\n",
        "                    finalresults_rf_pipex2, finalresults_rf_pipe_rf, \n",
        "                    finalresults_rfx2_pipe, finalresults_rfx3]) "
      ]
    },
    {
      "cell_type": "code",
      "execution_count": null,
      "id": "51ffef3a",
      "metadata": {
        "id": "51ffef3a"
      },
      "outputs": [],
      "source": [
        "finaldf['model'] = index"
      ]
    },
    {
      "cell_type": "code",
      "execution_count": null,
      "id": "b51a6493",
      "metadata": {
        "id": "b51a6493"
      },
      "outputs": [],
      "source": [
        "finaldf = finaldf.set_index('model')"
      ]
    },
    {
      "cell_type": "code",
      "execution_count": null,
      "id": "638354f4",
      "metadata": {
        "id": "638354f4",
        "outputId": "cdd32ba5-e3e0-4f80-f24f-25d4da7b8a61"
      },
      "outputs": [
        {
          "data": {
            "text/html": [
              "<div>\n",
              "<style scoped>\n",
              "    .dataframe tbody tr th:only-of-type {\n",
              "        vertical-align: middle;\n",
              "    }\n",
              "\n",
              "    .dataframe tbody tr th {\n",
              "        vertical-align: top;\n",
              "    }\n",
              "\n",
              "    .dataframe thead th {\n",
              "        text-align: right;\n",
              "    }\n",
              "</style>\n",
              "<table border=\"1\" class=\"dataframe\">\n",
              "  <thead>\n",
              "    <tr style=\"text-align: right;\">\n",
              "      <th></th>\n",
              "      <th>home</th>\n",
              "      <th>away</th>\n",
              "      <th>pipeline home prob</th>\n",
              "      <th>rf home outcome</th>\n",
              "      <th>winner_pipeline</th>\n",
              "      <th>winner_rf</th>\n",
              "    </tr>\n",
              "    <tr>\n",
              "      <th>model</th>\n",
              "      <th></th>\n",
              "      <th></th>\n",
              "      <th></th>\n",
              "      <th></th>\n",
              "      <th></th>\n",
              "      <th></th>\n",
              "    </tr>\n",
              "  </thead>\n",
              "  <tbody>\n",
              "    <tr>\n",
              "      <th>pipex3</th>\n",
              "      <td>Argentina</td>\n",
              "      <td>Brazil</td>\n",
              "      <td>0.435577</td>\n",
              "      <td>[True]</td>\n",
              "      <td>Brazil</td>\n",
              "      <td>Argentina</td>\n",
              "    </tr>\n",
              "    <tr>\n",
              "      <th>pipex2_rf</th>\n",
              "      <td>Argentina</td>\n",
              "      <td>Brazil</td>\n",
              "      <td>0.435577</td>\n",
              "      <td>[True]</td>\n",
              "      <td>Brazil</td>\n",
              "      <td>Argentina</td>\n",
              "    </tr>\n",
              "    <tr>\n",
              "      <th>pipe_rf_pipe</th>\n",
              "      <td>Argentina</td>\n",
              "      <td>Portugal</td>\n",
              "      <td>0.596284</td>\n",
              "      <td>[False]</td>\n",
              "      <td>Argentina</td>\n",
              "      <td>Portugal</td>\n",
              "    </tr>\n",
              "    <tr>\n",
              "      <th>pipe_rfx2</th>\n",
              "      <td>Argentina</td>\n",
              "      <td>Croatia</td>\n",
              "      <td>0.625126</td>\n",
              "      <td>[True]</td>\n",
              "      <td>Argentina</td>\n",
              "      <td>Argentina</td>\n",
              "    </tr>\n",
              "    <tr>\n",
              "      <th>rf_pipex2</th>\n",
              "      <td>Argentina</td>\n",
              "      <td>Brazil</td>\n",
              "      <td>0.435577</td>\n",
              "      <td>[True]</td>\n",
              "      <td>Brazil</td>\n",
              "      <td>Argentina</td>\n",
              "    </tr>\n",
              "    <tr>\n",
              "      <th>rf_pipe_rf</th>\n",
              "      <td>Argentina</td>\n",
              "      <td>Brazil</td>\n",
              "      <td>0.435577</td>\n",
              "      <td>[True]</td>\n",
              "      <td>Brazil</td>\n",
              "      <td>Argentina</td>\n",
              "    </tr>\n",
              "    <tr>\n",
              "      <th>rfx2_pipe</th>\n",
              "      <td>Argentina</td>\n",
              "      <td>Brazil</td>\n",
              "      <td>0.435577</td>\n",
              "      <td>[True]</td>\n",
              "      <td>Brazil</td>\n",
              "      <td>Argentina</td>\n",
              "    </tr>\n",
              "    <tr>\n",
              "      <th>rfx3</th>\n",
              "      <td>Argentina</td>\n",
              "      <td>Brazil</td>\n",
              "      <td>0.435577</td>\n",
              "      <td>[True]</td>\n",
              "      <td>Brazil</td>\n",
              "      <td>Argentina</td>\n",
              "    </tr>\n",
              "  </tbody>\n",
              "</table>\n",
              "</div>"
            ],
            "text/plain": [
              "                   home      away  pipeline home prob rf home outcome  \\\n",
              "model                                                                   \n",
              "pipex3        Argentina    Brazil            0.435577          [True]   \n",
              "pipex2_rf     Argentina    Brazil            0.435577          [True]   \n",
              "pipe_rf_pipe  Argentina  Portugal            0.596284         [False]   \n",
              "pipe_rfx2     Argentina   Croatia            0.625126          [True]   \n",
              "rf_pipex2     Argentina    Brazil            0.435577          [True]   \n",
              "rf_pipe_rf    Argentina    Brazil            0.435577          [True]   \n",
              "rfx2_pipe     Argentina    Brazil            0.435577          [True]   \n",
              "rfx3          Argentina    Brazil            0.435577          [True]   \n",
              "\n",
              "             winner_pipeline  winner_rf  \n",
              "model                                    \n",
              "pipex3                Brazil  Argentina  \n",
              "pipex2_rf             Brazil  Argentina  \n",
              "pipe_rf_pipe       Argentina   Portugal  \n",
              "pipe_rfx2          Argentina  Argentina  \n",
              "rf_pipex2             Brazil  Argentina  \n",
              "rf_pipe_rf            Brazil  Argentina  \n",
              "rfx2_pipe             Brazil  Argentina  \n",
              "rfx3                  Brazil  Argentina  "
            ]
          },
          "execution_count": 85,
          "metadata": {},
          "output_type": "execute_result"
        }
      ],
      "source": [
        "finaldf"
      ]
    }
  ],
  "metadata": {
    "kernelspec": {
      "display_name": "Python 3 (ipykernel)",
      "language": "python",
      "name": "python3"
    },
    "language_info": {
      "codemirror_mode": {
        "name": "ipython",
        "version": 3
      },
      "file_extension": ".py",
      "mimetype": "text/x-python",
      "name": "python",
      "nbconvert_exporter": "python",
      "pygments_lexer": "ipython3",
      "version": "3.9.12"
    },
    "colab": {
      "provenance": []
    }
  },
  "nbformat": 4,
  "nbformat_minor": 5
}